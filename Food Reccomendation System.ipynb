{
 "cells": [
  {
   "cell_type": "code",
   "execution_count": 1,
   "id": "b3124610-dd43-416c-8631-9ce081329e60",
   "metadata": {},
   "outputs": [],
   "source": [
    "import numpy as np\n",
    "import pandas as pd\n",
    "import difflib\n",
    "from sklearn.feature_extraction.text import TfidfVectorizer\n",
    "from sklearn.metrics.pairwise import  cosine_similarity\n",
    "import re"
   ]
  },
  {
   "cell_type": "code",
   "execution_count": 2,
   "id": "fe503d01-f8cc-42ae-b053-1f3d10baa2d0",
   "metadata": {},
   "outputs": [],
   "source": [
    "fooData = pd.read_csv('D:\\\\Projects\\\\Machine Learning\\\\FoodReccSystem\\\\fooddataset.csv')"
   ]
  },
  {
   "cell_type": "code",
   "execution_count": 3,
   "id": "d1459b16-9b69-4528-ae25-aab41c368b2f",
   "metadata": {},
   "outputs": [
    {
     "data": {
      "text/html": [
       "<div>\n",
       "<style scoped>\n",
       "    .dataframe tbody tr th:only-of-type {\n",
       "        vertical-align: middle;\n",
       "    }\n",
       "\n",
       "    .dataframe tbody tr th {\n",
       "        vertical-align: top;\n",
       "    }\n",
       "\n",
       "    .dataframe thead th {\n",
       "        text-align: right;\n",
       "    }\n",
       "</style>\n",
       "<table border=\"1\" class=\"dataframe\">\n",
       "  <thead>\n",
       "    <tr style=\"text-align: right;\">\n",
       "      <th></th>\n",
       "      <th>Food_ID</th>\n",
       "      <th>Name</th>\n",
       "      <th>C_Type</th>\n",
       "      <th>Veg_Non</th>\n",
       "      <th>Describe</th>\n",
       "    </tr>\n",
       "  </thead>\n",
       "  <tbody>\n",
       "    <tr>\n",
       "      <th>0</th>\n",
       "      <td>1</td>\n",
       "      <td>summer squash salad</td>\n",
       "      <td>Healthy Food</td>\n",
       "      <td>veg</td>\n",
       "      <td>white balsamic vinegar, lemon juice, lemon rin...</td>\n",
       "    </tr>\n",
       "    <tr>\n",
       "      <th>1</th>\n",
       "      <td>2</td>\n",
       "      <td>chicken minced salad</td>\n",
       "      <td>Healthy Food</td>\n",
       "      <td>non-veg</td>\n",
       "      <td>olive oil, chicken mince, garlic (minced), oni...</td>\n",
       "    </tr>\n",
       "    <tr>\n",
       "      <th>2</th>\n",
       "      <td>3</td>\n",
       "      <td>sweet chilli almonds</td>\n",
       "      <td>Snack</td>\n",
       "      <td>veg</td>\n",
       "      <td>almonds whole, egg white, curry leaves, salt, ...</td>\n",
       "    </tr>\n",
       "    <tr>\n",
       "      <th>3</th>\n",
       "      <td>4</td>\n",
       "      <td>tricolour salad</td>\n",
       "      <td>Healthy Food</td>\n",
       "      <td>veg</td>\n",
       "      <td>vinegar, honey/sugar, soy sauce, salt, garlic ...</td>\n",
       "    </tr>\n",
       "    <tr>\n",
       "      <th>4</th>\n",
       "      <td>5</td>\n",
       "      <td>christmas cake</td>\n",
       "      <td>Dessert</td>\n",
       "      <td>veg</td>\n",
       "      <td>christmas dry fruits (pre-soaked), orange zest...</td>\n",
       "    </tr>\n",
       "  </tbody>\n",
       "</table>\n",
       "</div>"
      ],
      "text/plain": [
       "   Food_ID                  Name        C_Type  Veg_Non  \\\n",
       "0        1   summer squash salad  Healthy Food      veg   \n",
       "1        2  chicken minced salad  Healthy Food  non-veg   \n",
       "2        3  sweet chilli almonds         Snack      veg   \n",
       "3        4       tricolour salad  Healthy Food      veg   \n",
       "4        5        christmas cake       Dessert      veg   \n",
       "\n",
       "                                            Describe  \n",
       "0  white balsamic vinegar, lemon juice, lemon rin...  \n",
       "1  olive oil, chicken mince, garlic (minced), oni...  \n",
       "2  almonds whole, egg white, curry leaves, salt, ...  \n",
       "3  vinegar, honey/sugar, soy sauce, salt, garlic ...  \n",
       "4  christmas dry fruits (pre-soaked), orange zest...  "
      ]
     },
     "execution_count": 3,
     "metadata": {},
     "output_type": "execute_result"
    }
   ],
   "source": [
    "fooData.head()"
   ]
  },
  {
   "cell_type": "code",
   "execution_count": 5,
   "id": "73ec703e-ba67-43a1-aaba-d0a6dd3ad91e",
   "metadata": {},
   "outputs": [
    {
     "data": {
      "text/plain": [
       "(400, 5)"
      ]
     },
     "execution_count": 5,
     "metadata": {},
     "output_type": "execute_result"
    }
   ],
   "source": [
    "fooData.shape"
   ]
  },
  {
   "cell_type": "code",
   "execution_count": 6,
   "id": "e4e78bad-ddfa-4587-8d79-3bb543d317a8",
   "metadata": {},
   "outputs": [
    {
     "data": {
      "text/plain": [
       "Food_ID     0\n",
       "Name        0\n",
       "C_Type      0\n",
       "Veg_Non     0\n",
       "Describe    0\n",
       "dtype: int64"
      ]
     },
     "execution_count": 6,
     "metadata": {},
     "output_type": "execute_result"
    }
   ],
   "source": [
    "fooData.isnull().sum()"
   ]
  },
  {
   "cell_type": "code",
   "execution_count": 7,
   "id": "a5ed0080-7a2b-474a-9994-f819e2ad2056",
   "metadata": {},
   "outputs": [],
   "source": [
    "#NO null values found in the given data set\n",
    "\n",
    "#combining all the feature to a list format\n",
    "combinedFeatures = fooData['Name'] +' ' +fooData['C_Type'] +' ' +fooData['Veg_Non'] +' ' +fooData['Describe']"
   ]
  },
  {
   "cell_type": "code",
   "execution_count": 8,
   "id": "b4f1b100-5a58-42a5-b414-127096963b9f",
   "metadata": {},
   "outputs": [
    {
     "name": "stdout",
     "output_type": "stream",
     "text": [
      "0      summer squash salad Healthy Food veg white bal...\n",
      "1      chicken minced salad Healthy Food non-veg oliv...\n",
      "2      sweet chilli almonds Snack veg almonds whole, ...\n",
      "3      tricolour salad Healthy Food veg vinegar, hone...\n",
      "4      christmas cake Dessert veg christmas dry fruit...\n",
      "                             ...                        \n",
      "395    Kimchi Toast Korean veg  cream cheese, chopped...\n",
      "396    Tacos de Gobernador (Shrimp, Poblano, and Chee...\n",
      "397    Melted Broccoli Pasta With Capers and Anchovie...\n",
      "398    Lemon-Ginger Cake with Pistachios Dessert non-...\n",
      "399    Rosemary Roasted Vegetables Healthy Food veg k...\n",
      "Length: 400, dtype: object\n"
     ]
    }
   ],
   "source": [
    "print(combinedFeatures)"
   ]
  },
  {
   "cell_type": "code",
   "execution_count": 12,
   "id": "c945a738-581c-4ef9-9df0-001bbb38c67c",
   "metadata": {},
   "outputs": [
    {
     "name": "stdout",
     "output_type": "stream",
     "text": [
      "baked namak para Snack veg whole wheat flour (atta) refined flour (maida) baking powder ghee salt carom seeds (ajwain)\n"
     ]
    }
   ],
   "source": [
    "print(combinedFeatures[21])"
   ]
  },
  {
   "cell_type": "code",
   "execution_count": 9,
   "id": "a1de44bc-46c4-463c-bb34-eb1373bccf8c",
   "metadata": {},
   "outputs": [],
   "source": [
    "# Assuming combinedFeatures is a list of strings\n",
    "combinedFeatures = [feature.replace(',', '') for feature in combinedFeatures]"
   ]
  },
  {
   "cell_type": "code",
   "execution_count": 10,
   "id": "ddf3709b-7443-454e-aa9a-79472c7ad87f",
   "metadata": {},
   "outputs": [
    {
     "name": "stdout",
     "output_type": "stream",
     "text": [
      "['summer squash salad Healthy Food veg white balsamic vinegar lemon juice lemon rind red chillies garlic cloves (crushed) olive oil summer squash (zucchini) sea salt black pepper basil leaves', 'chicken minced salad Healthy Food non-veg olive oil chicken mince garlic (minced) onion salt black pepper carrot cabbage green onions sweet chilli sauce peanut butter ginger soy sauce fresh cilantro red pepper flakes (crushed) tarts', 'sweet chilli almonds Snack veg almonds whole egg white curry leaves salt sugar (fine grain) red chilli powder', 'tricolour salad Healthy Food veg vinegar honey/sugar soy sauce salt garlic cloves (minced) chilli pepper (sliced) green papaya carrot (peeled) cucumbers mint leaves toasted peanuts', 'christmas cake Dessert veg christmas dry fruits (pre-soaked) orange zest lemon zest jaggery syrup almond flour apple butter (softened) eggs', 'japanese curry arancini with barley salsa Japanese veg japanese curry sticky rice cheese inside rice barley salsa wasabi mayo red capsicum cube (cut) yellow capsicum cube (cut) green capsicum cube (cut) green chili barley butter white pepper light soya salt', 'chocolate nero cookies Dessert veg almonds eggs granulated sugar bittersweet chocolate unsalted butter flour baking powder castor sugar icing sugar', 'lamb and chargrilled bell pepper soup Healthy Food non-veg lamb bones (preferably shank and shoulder) onions celery ginger garlic carrot chargrilled red/yellow/green bell peppers (quartered) whole spices mix (black pepper cinnamon cardamom clove bay leaf) salt water (warm) oil (sunflower or olive', 'cream of almond soup Healthy Food veg vegetable stock skimmed milk toasted almonds (powdered) butter flour salt and pepper nutmeg almond essence toasted almond flakes', 'broccoli and almond soup Healthy Food veg vegetable stock broccoli ground almonds (toasted) skimmed milk salt freshly ground black pepper', 'coconut lime quinoa salad Healthy Food veg uncooked quinoa water red onion cucumber (diced) purple cabbage avocado (ripened and diced) orange shelled edamame (defrosted) unsweetened toasted coconut flakes almonds few shakes of black pepper for the dressing: orange juice lime (juiced) apple cider vinegar olive oil', 'lemon honey glazed sous vide corn on the cob Snack non-veg young corn on the cob honey lemon juice garlic cloves (smashed) celery stalk chives carrot salt paprika powder parsley plastic bag food thermometer', 'watermelon and strawberry smoothie Healthy Food veg fresh strawberries honey low fat yogurt watermelon chia seeds', 'peach raspberry and nuts smoothie Healthy Food veg fresh raspberries ripe banana almond fresh peach slices low fat yogurt fresh raspberry peach fruit slices almonds', 'almond and cranberry poha Indian veg almond flakes onion poha cranberries (frozen/ dried) salt oil curry leaves green chilies fresh coconut', 'almond and raw banana galawat Indian veg almond slivers raw banana (boiled) almond paste cooking cream refined oil mace powder cardamom powder  ginger garlic paste garam masala powder red chilli powder salt tempura batter', 'baked namakpara with roasted almond dip Snack veg almonds (crushed) tomato garlic cloves basil sprig lemon salt pepper for namak para: refined flour sugar salt olive oil water', 'grilled almond barfi Dessert veg khoya sweetener (optional) almonds (crushed)', 'baked shankarpali  Snack veg whole wheat flour (atta) refined flour (maida) garlic cloves (crushed) salt red chilli powder chaat masala cumin powder tomato puree ghee', 'baked multigrain murukku Snack veg oats ragi flour (bhakri atta) wheat flour rice flour urad dal flour (dry roast and grind the dal to a fine powder) cumin seeds green chillies ginger salt oil', 'apple rabdi Dessert veg apples milk sugar green cardamoms almonds (blanched) pistachios (blanched)', 'baked namak para Snack veg whole wheat flour (atta) refined flour (maida) baking powder ghee salt carom seeds (ajwain)', 'dates and nuts ladoo Dessert veg dates (pitted) mixed nuts (almonds cashews walnuts pistachios peanuts) dessicated coconut (optional)', 'green lentil dessert fudge Dessert veg whole moong beans cow ghee raisins whole milk jaggery (organic) ground cardamom almonds (halved)', 'cashew nut cookies Dessert veg cashew paste ghee khaand (a sweetening agent and a healthier substitute of sugar) flax or chia seeds plain yogurt baking soda baking powder vanilla oats organic all-purpose flour', 'almond pearls Snack veg toasted almonds blueberries oats corn flakes olive oil salt curry leaves mustard seeds cumin seeds red chilli powder turmeric powder black pepper powder ajwain lemon juice', 'hawaiin papaya salad Healthy Food veg papaya fresh lime (juiced) watermelon balls or small squares (seedless) fresh pineapple chunks coconut (unsweetened) vanilla flavoured yogurt (low fat)', 'vegetable som tam salad Healthy Food veg raw papaya carrot french bean diamond cherry tomato garlic crush mix chilli somtam dressing peanuts (crushed) peanuts', 'spinach and feta crepes French veg milk (whole fat or skimmed) flour water butter honey salt vegetable oil extra butter (for crisping the crepe) spinach feta cheese (crumbled) greek yogurt (whisked) honey', 'couscous with ratatouille - tangy tomato sauce French veg for the cous cous: plain couscous extra virgin olive oil vegetable stock herbs (basil parsley thyme cilantro work best) for the ratatouille: olive oil (regular not extra virgin) red onions aubergines (cut in to 3 cm cubes) zucchini (cut in to 3 cm cubes) garlic cloves ground cumin sweet paprika tomato paste salt', 'baked almond kofta Snack veg potato (boiled) nutmeg milk almonds (crushed) green onions refined flour egg salt pepper eggs refined flour (for rolling) dried breadcrumbs (for rolling)', 'almond and amaranth ladoo Dessert veg popped amaranth seeds jaggery almonds (slivered unpeeled)', 'moong dal kiwi coconut soup Indian veg green gram (dhuli moong dal) kiwis coconut cream oil bay leaves cumin seeds coriander seeds black peppercorns garlic cloves medium onion carrot turmeric powder curry powder salt fresh coriander sprigs', 'mixed berry & banana smoothie Healthy Food veg Frozen mixed berries ripped bananafresh orange juice low fat curd', 'banana walnut smoothie Healthy Food veg Low Fat Yogurt Banana Walnuts Seeds (Facseeds and Chia Seeds) Honey', 'spicy watermelon soup Healthy Food veg Watermelon ginger-garlic paste peppermint chili flakes olive oil (to cook)', 'red rice poha Indian veg Onion Pepper Button Mushroom Wild Mushroom White Wine Tomato Sage Leaf Red Poha Truffle Oil Rosemary', 'mixed salad with lotus root Healthy Food veg Iceberg Lattoos Lolo Rosso Endive Lettuce Red Cabbage Lotus Root Kaddu Yam Beans Small Onions Pomegranate Chalet Oil Pomelo Lemongrass Sauce', 'sweet potato and quinoa bowl Healthy Food veg Sweet Potato Cubes Coconut Onion Knoia (Ripe) Raisins Cashew Pepper Powder Caen Cassia Salt', 'corn and raw mango salad Healthy Food veg Corn kernels onions green onions paprika raw mango (pieces) celery stock (pieces) cherry tomatoes pineapple (pieces) pasarley green coriander badge leaves black olive lemon juice olive Oil black salt white pepper powder taco shell', 'khichdi Indian veg Quick cooking oats peanuts cumin turmeric powder red chilli powder onion tomatoes carrots green peas ginger green chillies salt extra virgin olive oil water coriander leaves', 'sugar free modak Japanese veg seedless dates almonds cashew nuts walnuts raisins dry coconut poppy seeds ghee', 'beetroot modak Japanese veg gram flour (besan) semolina (rava/sooji) beetroot colour or two oven cooked beetroot paste  water oil (for frying) for sugar syrup: sugar water cardamom powder lemon juice cashews (kaju)', 'andhra pan fried pomfret Indian veg white pomfret fish sunflower refined ooil red chilli powder salt turmeric powder ginger-garlic paste lemon (juiced) cumin powder coriander powder garam masala green chilli curry leaves coriander', 'ghee roast chicken dosa quesadilla Mexican non-veg dry red chillies coriander seeds cumin seeds fenugreek seeds black pepper clove garlic turmeric powder boneless chicken curd lemon (juiced) for cooking chicken: tamarind pulp ginger (1 inch) garlic cloves onion tomato ghee red chilli powder salt crushed jaggery dosa batter (for 4 dosas) processed cheese ghee or oil (to crisp the dosa) coriander leaves curry leaves (deep fried) curd salt zeera powder sugar red chilli powder', 'steam bunny chicken bao Japanese non-veg buns all purpose white flour dry yeast sugar salt warm water chicken mince eggs soy sauce sugar sesame oil worcestershire sauce chives aromat powder', 'meat lovers pizza Italian non-veg millet flour tapioca flour soy milk garlic powder baking powder salt tomato sauce mozzarella cheese prosciutto pepperoni chicken salami salami milano rosemary olive oil', 'almond and chicken momos (without shell) Chinese non-veg chicken mince garlic carrots spring onion ginger soya sauce oyster sauce sesame oil pepper powder egg almonds (blanched) oil (for greasing)', 'christmas tree pizza Italian veg pizza dough (2 boules) red pepper red onion basil pesto (purchased homemade or vegan pesto) mozzarella cheese kosher salt', 'french pork chop French veg pork chop pink pepper corn green pepper corn aromatic sauce salt black pepper salted butter refined oil red cabbage bell pepper chop apricot onion red wine ancho chilli cayenne pepper microgreen', 'christmas chocolate fudge cookies Dessert veg unsalted butter brown sugar chocolate chocolate chips eggs flour cocoa powder baking powder', 'chicken parmigiana with tomato sauce Italian non-veg for chicken parmigiana: chicken breast egg whole frozen flour planko bread crumbs fresh italian parsley vegetable oil solid butter unsalted tomato sauce mozzarella cheese italian parmesan cheese thyme for pepperonata: red pepper green pepper yellow pepper red onion fresh tomato butternut squash garlic pure olive oil vegetable oil black pepper corn (crushed) salt parsley for garnishing: parsley sprig spinach', 'chocolate appe Snack veg rice coconut baking powder vanilla extract cinnamon powder brown sugar unsweetened cocoa powder salt chocolate chips butter', 'sous-vide salmon tikka French non-veg norwegian salmon black garlic pickle butter butchery bag smoked yogurt home made prawn crisp edible flower salt', 'filo pizza Italian veg filo pastry himalayan salt black pepper salted butter tomato sauce broccoli button mushroom green zucchini yellow zucchini capsicum yellow capsicum green capsicum red pizza spice mix mozzarella cheese', 'chocolate samosa Snack veg refined flour desi ghee black cardamom seeds chocolate block almonds cashew nuts pistachio sugar garam masala powder oil', 'fish with jamun sauce Indian non-veg jamun sugar chilli garlic cloves (minced) cumin (powdered) fish fillet (pomfret (or any white fish) semolina salt wilted spinach', 'dahi lasooni chicken Indian non-veg chicken (boneless cube size) chesse garlic ginger garlic paste coriander green chilli paste cream (fresh) curd kaju paste salt black salt  garam masala chaat masala butter', 'pesto fish kebabs Indian non-veg King fish cut into one inch pieces paprika cut into one inch pieces bezel pasto white wine vinegar salt cooking spray', 'caramelized sesame smoked almonds Snack veg red lentils or masoor dal (half-boiled) potato (grated) carrot french beans bread slices ground chickpea flour (sattu) green chillies ginger onions garlic (minced) salt sugar chaat masala red chilli powder garam masala corn flour besan bread crumbs for crunchyness coriander refined oil (for fryingp)', 'crunchy vegetable dal sattu croquettes Italian veg red lentils or masoor dal (half-boiled) potato (grated) carrot french beans bread slices ground chickpea flour (sattu) green chillies ginger onions garlic (minced) salt sugar chaat masala red chilli powder garam masala corn flour besan bread crumbs for crunchyness coriander refined oil (for fryingp)', 'active charcoal modak Japanese veg for modak: gram flour (besan) semolina (rava/suji) active charcoal water oil (for frying) sugar water cardamom powder lemon juice cashews (kaju)', 'flax seed and beetroot modak Japanese veg rice flour salt oil (for greasing) beetroot puree tossed flax seeds (for topping) fresh coconut jaggery poppy seeds green cardamom powder nutmeg powder', 'chocolate prunes gujiyas Japanese veg for gujiya pastry: refined flour ghee water salt for gujiya stuffing: dark chocolate prunes mawa sugar cardamom', 'almond  white chocolate gujiya Japanese veg all-purpose flour clarified butter (ghee) water white chocolate dessicated coconut green cardamom powder almond jaggery', 'betel nut popsicle Dessert veg full cream milk cream mascarpone sugar paan (crushed) cookie crumble dark chocolate (melted) caramel sauce', 'clotted cottage cheese croquettes Italian veg black pepper black salt bread crumb corn flour refined oil jalapeno jeera powder maida cottage cheese parsley salt for thousand island dressing: mayonnaise tomato ketchup minced garlic celery black pepper', 'gajar tart French veg white butter breakfast sugar milk full fat refined flour winter carrots ghee sugar khoya cardamom powder cashew nuts (crushed) almonds (crushed) full fat milk full fat milk grain sugar green cardamom powder', 'banana and maple ice lollies Dessert veg Banana Greek yogurt heavy cream pure maple syrup coconut', 'shepherds salad (tamatar-kheera salaad) Healthy Food veg 1 cucumber peeled and chopped onion tomato green chillies garlic buds pasarley olive oil lemon juice salt and pepper', 'carrot ginger soup Healthy Food veg Carrots Olive Oil Salt Vegetable Stock Ginger Thyme Onion Garlic Buds Pepper (Freshly Picked)', 'dark night Beverage veg whisky honey cinnamon star anise cloves green apple', 'hot chocolate Beverage veg milk chocolate cocoa powder powdered sugar cinnamon vanilla', 'slow cooked spiced sangria Mexican veg red wine (merlot / zinfandel) apple cider honey orange (zested and juiced) cloves (whole) green cardamom cinnamon sticks anise (whole) brandy', 'detox haldi tea Beverage veg haldi ginger black pepper honey water', 'holi special ice tea thandai Beverage veg ground white pepper (kali mirch) assam tea bags almonds (badam) - coarsley crushed poppy seeds (khus-khus) fennel seeds (saunf) (crushed coarsely) cardamom (elaichi) powder ground sugar saffron (kesar) strands', 'grilled lemon margarita Beverage veg vanilla infused tequila vanilla liqueur lemon juice lemon lemon', 'spanish artichoke and spinach dip Mexican veg spinach onion cream garlic nutmeg salt lime juice artichoke hearts (cubed) polenta refined flour salt water butter flour salt pepper (freshly ground)', 'beetroot and green apple soup Healthy Food veg beetroots green apple onion olive oil salt black peppercorns (crushed) butter vegetable stock mixed dried herbs fresh cream lemon juice parsley sprigs red chilli flakes soup sticks as required', 'baba budan no. 7 Beverage veg rum espresso sugar syrup/gur (jaggery) syrup green cardamom pod', 'fruit infused tea Beverage veg chamomile tea bags orange berries blueberries ginger mint leaves boiling water', 'soya milk Beverage veg Soybean hot water', 'spiced coffee Beverage veg Freshly ground coffee cardamom powder ginger milk sugar cream chocolate', 'filter coffee Beverage veg Coffee powder water milk sugar', 'garlic and pinenut soup with burnt butter essence French veg garlic cloves almonds (whole) parsley bayleaf chicken broth nutmeg egg yolk heavy cream white bread slices butter salt pepper white wine', 'roast turkey with cranberry sauce Healthy Food non-veg whole turkey butter onion celery crumbled sage and thyme  salt and pepper garlic minced balsamic vinegar sugar cranberry', 'roasted spring chicken with root veggies Healthy Food non-veg whole chicken thyme garlic lemon orange salt black pepper butter (to rub) extra olive oil carrot turnip beetroot chipotle powder parsley', 'peri peri chicken satay Snack non-veg boneless skinless chicken thigh (trimmed) salt and pepper yogurt chilli powder ginger garlic paste coriander leaves oil to fry peri peri sauce potato fries', 'chicken popcorn Chinese non-veg chicken (boneless) corn flour or all purpose flour egg bread crumbs salt ginger garlic paste black pepper onion powder (optional) red chilli powder or paprika or cayenne pepper oil for deep frying', 'half roast chicken Healthy Food non-veg cooking oil whole chicken (skin on- rinsed and dressed) onions (quartered- skin on) garlic (halved - skin on) carrots (roughly quartered) celery  thyme dunkleweizen (pour into a glass and keep open at room temperature for an hour or two to make flat) chicken stock butter sea salt', 'chicken biryani Indian non-veg malabar peppercorn cinnamon stick green cardamom pods star anise cloves fennel seeds vermicelli desi ghee shahi jeera bay leaves green chilli mint leaves onion saffron garlic paste salt chicken (dark meat) ginger paste turmeric powder coriander powder red chilli powder roma tomatoes (de-seedeed) water', 'chicken farcha Indian non-veg boneless chicken thigh (without skin) lemon juice garlic paste ginger paste red chilli powder coriander powder garam masala black pepper (crushed) salt bread crumbs / semolina eggs red chilli powder oil', 'buldak (hot and spicy chicken) Japanese non-veg chicken drum sticks/ chicken breast soy sauce sugar traditional corn syrup (substitution honey) cheong ju (clear rice wine similar to japanese sake) green onion black pepper olive oil sesame seeds (optional) for marinating sauce: gochugaru (red chili pepper flakes) alapenos korean pear (substitution asian pear) onion garlic soy sauce spicy yellow mustard sesame oil sugar mul yut (substitution honey)', 'chicken sukka Indian non-veg chicken (small pieces) onion (thin slices) cardamom salt oil coriander cumin mustard pepper cloves cinnamon bedki chillies kashmiri chilies turmeric onion garlic ginger salt', 'steamed chicken roulade French non-veg lamb mince garlic  salt paprika powder pomodaro tomatoes olive oil celery shallots carrot black pepper bay leaf yellow chilli powder cilantro chicken thigh salt white pepper powder garlic paste white wine vinegar olive oil yellow chilli powder refined oil fenugreek seeds white pepper powder garlic fenugreek leaves onion broken cashew salt fresh cream kasoori methi', 'methi chicken masala Indian non-veg boneless chicken lemon juice red chilli powder salt ginger garlic paste curd red chilli powder salt coriander powder oil onion oil bay leaf green cardamom black cardamom cinnamon ginger garlic paste tomato kasoori methi green chilli water', 'restaurant style fried chicken Chinese non-veg egg salt white pepper maida salt red chilli powder garlic powder ginger powder onion powder oregano chillil flakes white pepper basil chicken drumsticks salt white pepper bread crumbs (as required)', 'chicken potli Chinese non-veg chicken onion green chilli garlic ginger salt aromatic powder soya sauce oyster sauce spring onion filo sheets', 'spicy chicken masala Indian non-veg mustard oil curry leaves kalonjee saunf garlic onion tomatoes ginger green chillies boneless chicken salt tomato puree red chilli powder cumin powder black salt peppercorn (crushed) water mint coriander', 'spicy chicken curry Indian non-veg oil ghee onion paste garlic paste ginger paste turmeric powder salt tomato puree coriander powder red chilli powder cumin powder garam masala chicken leg pieces coriander leaves water', 'crispy herb chicken Italian non-veg fresh breadcrumbs parmesan cheese lemon rind fresh parsley leaves garlic powder plain flour egg milk chicken breast supremes vegetable oil mayonnaise sour cream fresh chives (dried if fresh not available) fresh parsley (dried if fresh not available) garlic red onion (optional) ground black pepper salt', 'dahi chicken Indian non-veg dahi cumin powder garlic paste garam masala turmeric powder red chilli powder salt boneless chicken oil green chilli onion tomato', 'amritsari chicken masala Indian non-veg chicken ginger garlic paste curd lemon juice vinegar coriander powder cumin powder red chilli powder salt onion butter red chilli powder coriander powder cumin powder ginger water salt green chilli tomatoes sugar butter  cream', 'chilli chicken Chinese non-veg boneless chicken salt cornflour black pepper egg soy sauce red chilli sauce garlic green chillies green chilli sauce vinegar onion capsicum black pepper salt', 'chicken tenders Snack non-veg chicken breast (cut into strips) salt garlic paste ginger paste green chilli paste oats refined flour salt freshly ground black pepper fried mixed herbs (italian herb) garlic powder', 'chicken nimbu dhaniya shorba Beverage non-veg water chicken (diced)) ginger garlic paste coriander lemon cream butter turmeric powder green chilli paste cornflour salt', 'garlic soya chicken Healthy Food non-veg chicken thigh/breast (cut crosswise into 1/2-inch-thin strips) sesame oil (toasted) white pepper (finely ground) ginger juice peanut oil or vegetable oil (divided) garlic cloves (minced) ginger red chilli flakes red onion  snow peas (trimmed) red bell pepper (cut into thin strips) rice vinegar soy sauce dark soy sauce chinese rice wine brown sugar cornflour', 'cauliflower and chicken biryani Indian non-veg boneless chicken biryani masala yogurt onions coconut oil cauliflower coconut (diced) onion (diced) peppercorns cardamoms cumin seeds bay leaves cinnamon cloves coconut oil garam masala dry chilli flakes turmeric powder black peppercorns cardamom cinnamon garlic (crushed) tomato puree green chillies fresh ginger (peeled) dry red chilli salt', 'chicken quinoa biryani Healthy Food non-veg onions tomato green chillies(slit open) ginger garlic paste mint leaves coriander leaves/cilantro fresh yogurt/curd(beaten) turmeric powder chilli powder salt chicken (cut into pieces) garam masala powder ginger garlic paste yogurt/curd chilli powder coriander powder salt oil cloves bay leaf  cardamom', 'chicken and mushroom lasagna Italian non-veg chicken salt crush black pepper garlic cloves (minced) olive oil fresh thyme button mushroom onion low fat milk basil basil-tomato sauce', 'plum and cherry roasted chicken Healthy Food non-veg carrot (finely diced) onion (finely diced) celery (finely diced) fresh thyme sprigs whole free range chicken  pepper (freshly ground) parsley stems celery leaves lemon slices (1/8 inch thick) onion carrot fresh lemon juice chicken stock/broth plums (cut) fresh cherries', 'chicken roulade French non-veg chicken breasts olives jalapenos bell peppers(all 3) thyme dried white wine salt black pepper (crushed to taste) egg olive oil mozerella cheese processed cheese', 'sticky rum chicken wings Snack non-veg chicken wings without skin hung curd chilli powder sweet paprika powder english mustard paste garlic paste salt garlic rum bbq sauce', 'chicken dragon Chinese non-veg Chicken (boneless and cut into small pieces) eggs (lightly whipped) maida garlic paste ginger paste salt water oil', 'chicken palwal Indian non-veg Chicken Onion Tomato Green Chilli Cumin Powder Coriander Powder Green Coriander Curd Ginger Garlic Red Chilli Powder Salt Oil', 'pan seared thigh of chicken Mexican non-veg Chicken Thai Salt Pepper Lemon Fresh Thyme Barley Brockley Mushroom Extra Virgin Olive Oil Cherry Tomato', 'chicken in mahalak sauce Indian non-veg Salt sugar seasonings oil corn flour chicken leg fresh chilli garlic ginger onion red chili paste tomato catchup paprika yellow capsicum vegetable stock', 'grilled kasundi honey chicken with sweet potato mash Indian non-veg Chicken breast kasundi (Bengali mustard sauce) sweet potato red and yellow capsicum broccoli garlic buds refined oil salt butter cream green onion honey ginger and garlic paste', 'chicken dong style Chinese non-veg Oil chicken breast garlic ginger tomato catchup oyster sauce shitake mushrooms bomb shoots (boiled) salt sugar broth powder shocking wine potato starch sesame oil green onions', 'microwave tandoori chicken Indian non-veg Chicken (sliced) garlic paste ginger paste Hung curd salt garam masala coriander powder pepper powder cream oil for garnishing: lemon pieces onion rings', 'methi malai cranberry chicken Indian non-veg Chicken (sliced ??into large pieces) salt cranberry puree red chilli powder garam masala coriander powder cumin powder chaat masala corn flour fenugreek leaves gram flour ginger garlic cream Greek yogurt butter', 'southern fried chicken tenders Snack non-veg Chicken breast (cut 20 strips 20 grams) all purpose flour salt hot red chillies eggs bread crumbles white cabbage slaw pasarley sprig honey-mustard dip green bell pepper', 'thai style chicken tikka Thai non-veg Chicken Thais Thai Ginger Lemon Leaves Lemongrass Coconut Milk Powder Refined Oil Red Curry Paste Peanut Butter Bezel Leaves Lotus Stem Yellow Butter Chaat Masala', 'chicken gilafi kebab Indian non-veg Chicken Mince Onion Tomato Green Capsicum Green Coriander Green Chilli Salt Oil Cashew Almond Mint Red Chilli Powder Ginger Garlic Paste Cumin Powder Lemon Juice Fresh Cream Kewda Water', 'cheese chicken kebabs Indian non-veg Chicken Thais Garlic Paste Garlic Paste Yellow Chilli Powder Cheese Curd Gram Flour Green Cardamom Powder Yellow Chilli Powder Mace Powder Nutmeg Powder Rock Salt Green Coriander Oil', 'andhra crab meat masala Indian non-veg processed crab meat refined oil curry leaves garlic green chilli onion ginger-garlic paste coriander coriander powder cumin powder turmeric powder garam masala powder kashmiri chilli powder salt lemon chop masala tomato', 'cajun spiced turkey wrapped with bacon Mexican non-veg turkey breast cajun spice spinach leaves (cooked and drained) garlic pods salted butter feta cheese bacon strips ground black pepper for cajun spice: onion powder garlic powder seasoning salt paprika ground black pepper cayenne pepper oregano thyme red pepper flakes (if you like it spicy))', 'thai lamb balls Thai non-veg lamb (minced) couscous scallion garlic egg parsley olive oil mint ao nori herb salt five spice cinnamon powder', 'oyster lamb Thai non-veg vegetable oil garlic ginger lamb stock oyster sauce dry sherry sugar celery salt bokchoy shitake mushroom', 'chicken shami kebab Indian non-veg oil cumin seeds cloves black peppercorns cinnamon coriander seeds ajwain red chilli whole chilli flakes boneless chicken salt water ginger green chilli garlic coriander leaves  mint leaves  egg', 'balti meat Mexican non-veg refined oil black cardamoms green cardamoms mace clove cinnamon stick black pepper corn ginger garlic paste ginger green chilies mutton curry cut brown onion paste salt kashmiri red chili powder tomato puree garam masala powder coriander powder cumin powder', 'coffee marinated mutton chops Thai non-veg mutton chops espresso honey balsamic vinegar rosemary pink peppercorns (crushed) olive oil salt', 'sali boti (parsi meat dish) Indian non-veg mutton (wash and cut into very small cubes) ghee or oil tomatoes onions green chillies coriander leaves chilli powder turmeric powder ginger-garlic paste water vinegar jaggery salt potatoes oil', 'braised lamb shanks Thai non-veg Lang Shanks Olive Oil Onion Carrots Celery Stick Garlic White Wine Lamb Stock White Wine Rosemary Tomata Puree', 'bengali lamb curry Indian non-veg Lamb pieces yogurt turmeric powder castor sugar red chili powder mustard oil onion ginger paste garlic paste green chillies mustard seeds almonds', 'malabari fish curry Indian non-veg sear fish coconut ginger pureed tamarind salt powdered turmeric green chillies red chilli powder shallots', 'japanese fish stew Japanese non-veg sole fillet (you can also do 2/3 types of fish) large shrimps (optional) potatoes (peeled) onions (cut into slices) garlic cloves red capsicum (can use green also) parsley or coriander (choose the herb that most suits your taste buds) few dashes of hot sauce paprika olive oil white wine rock salt', 'malabar fish curry Indian non-veg whole coriander seeds whole red chilli coconut oil mustard seeds onion curry leaf coconut milk tamarind pulp coriander seabass fish curry cuts', 'surmai curry with lobster butter rice Thai veg tamarind red chilli powder turmeric powder salt fresh coconut onion garlic cloves coriander seeds fenugreek seeds red chilli powder turmeric powder tamarind (lemon sized) butter lobster (de-shell and devein and make a small cube) salt and lime surmai', 'seared salmon in tabasco butter Thai non-veg butter tabasco chives salt salmon fillet olive oil sea salt', 'risotto lobster with parmesan egg pancake confit tomatoes and coral tuille Italian non-veg lobster shell carrot leeks garlic cloves tomato paste bay leaf peppercorn water lobster meat arborio rice onion leeks lobster stock parmesan cheese cream salt olive oil egg parmesan flour milk parsley salt cherry tomatoes garlic pods olive oil water oil flour salt', 'fish skewers with coriander and red wine vinegar dressing Thai non-veg sea bass fillets olive oil (for grilling) red wine vinegar sugar extra virgin olive oil garlic clove coriander bamboo skewers', 'seafood rock filler French veg baked tart of mixed sea food served with phyllo fruit bowl savory tart shell (semi baked) mixed sea food mornay sauce assorted herb and seasoning phyllo pastry assorted seasonal fruit', 'shrimp & cilantro ceviche French veg prawns gherkin onion cilantro mix bell pepper tiger milk sweet corn sea salt black pepper green lemon juice cherry tomato edible flower coriander stems celery stalks garlic ginger red onion lemon juice sea salt black pepper', 'saewoo bokumbop (shrimp fried rice) Japanese veg cooked rice shrimp (de-veined onion cooked green peas green onion egg (scrambled) vegetable oil/butter soy sauce sesame oil salt pepper', 'thai prawn curry & baked rice  Thai veg jeera whole coriander seeds kashmiri chilly garlic ginger green chillies kokum coconut onion tomatoes coriander prawns salt turmeric powder garlic paste asafoetida refined oil ginger paste goan rice coconut milk green chillies fresh coconut hing refined oil coriander leaves basmati rice coconut milk green chillies coconut milk coconut salt green chillies curry leaf lecite', 'bihari fish curry Indian non-veg rohu fish salt turmeric powder chilli powder oil garlic  green chillies mustard seeds black peppercorns cumin seeds whole red chillies fenugreek seeds tomatoes mustard oil bay leaves water garam masala coriander leaves', 'curry fish fingers Thai non-veg river sole fish (cut in thin strips) garlic paste salt  lime juice beer flour cornflour white pepper eggs mustard', 'prawn and litchi salad Healthy Food veg prawns (shelled and cleaned) spring onions mango flesh litchis (deseeded) chilli flakes lemon (for lemon juice) olive oil peanuts (to garnish) salt', 'kerala fish curry Indian non-veg white fish (cut into cubes) onion tomato garlic cloves fresh green chillies (deseeded) oil fresh coconut paste red chilli paste coriander powder turmeric powder salt whole dry red chillies black mustard seeds curry leaves tamarind extract water', 'fish andlouse French non-veg white wine and water mix to cover onion salt bay leaf black pepper corns olive oil onion garlic tomatoes (peeled and seeded) basil leaves spring fresh thyme - optional 1 bay leaf salt and pepper olive oil wine vinegar prepared mustard salt and pepper assorted garden herbs ( parsley basil etc.', 'prawn fried rice Thai veg Oil Bacon Prawns Chicken Carrots Garlic Buds Ginger Spring Onion Sweet Chili Sauce Soy Sauce Salt Pepper Sweet Corn Vinegar Baked Rice Green Coriander', 'damdama fish curry Indian non-veg Fish onion tomato reshagi red chilli powder cumin powder coriander powder coriander cumin salt oil', 'fish with white sauce Italian non-veg Fillet fish oil milk flour butter salt ground black pepper', 'chilli fish Chinese non-veg For fish pieces (Boneless) Flour Cornflour Baking Powder Soy Sauce Celery Pepper Salt Oil Green Onion Sauce: Ginger Garlic Green Chili Soy Sauce Tomato Sauce Chili Sauce Cornflour', 'fish ambultiyal Indian non-veg Tuna onion fenugreek whole chilli pandan leaf salt water cardamom cinnamon coriander powder black pepper red chilli curry powder garlic (crushed) chili flakes gorca salt', 'chettinad fish fry Indian non-veg Surmai fish oil garlic buds ginger (mash) cumin fennel whole coriander black pepper mustard seeds curry leaves salt oil water tomatoes red pepper powder turmeric powder tamarind pulp cornflour lemon pieces of', 'fish moilee Indian non-veg Basa fish onion ginger garlic buds green chillies turmeric red chilli powder coriander powder lemon juice curry leaves refined oil refined oil mustard seeds black pepper fennel green cardamom coconut milk Cherry tomatoes', 'batter fish Mexican non-veg Fresh fish pieces (river sol or sea bass) maida passerley oil baking powder maida egg (optional) soda water salt and pepper', 'fish salan Mexican non-veg King fish ripe tomatoes desi ghee ginger-garlic paste onion turmeric powder red chilli powder black pepper powder garam masala ginger turmeric powder fennel powder refined oil salt water', 'spanish fish fry Mexican non-veg Sol fish tomato onion lemon juice olive oil ginger and garlic paste bay leaves cinnamon stick green chillies vinegar salt water', 'prawn potato soup Thai veg Onion potato prawns eggs milk butter coriander salt water', 'red rice vermicelli kheer Indian veg red rice vermicelli / broken sooji / semolina vermicelli butter almonds whole milk cardamom powder saffron strands / thread sugar', 'green cucumber shots Healthy Food veg english cucumbers garlic cloves (smashed) romaine lettuce basil parsley cilantro big lemon sea salt olive oil', 'thai pineapple rice Thai veg rice onion thai ginger  fresh turmeric curry leaf lemon grass coconut milk salt hot curry powder pineapple chunks oil water turmeric powder fresh pineapple', 'green asparagus risotto Italian veg carnaroli rice vegetable broth butter extra virgin olive oil parmigiano cheese onion (minced) white wine salt & pepper', 'veg fried rice Chinese veg oil ginger-garlic paste spring onion carrot cabbage capsicum salt soy sauce vinegar rice', 'egg and garlic fried rice Chinese non-veg oil garlic spring onion  ginger red chilli  egg cooked rice salt black pepper powder soya sauce', 'curd rice Indian veg rice water curd milk carrot green chilli ginger salt coriander leaves oil mustard seeds chana dal urad dal curry leaves red chilli hing', 'fried rice with soya chunks Chinese veg basmati rice carrot capsicum beans green peas ginger garlic green chillies bay leaf cinnamon sticks green cardamoms clove soya chunks salt', 'corn pulao Indian veg basmati rice american corn kernels olive oil onion ginger garlic paste salt green chillies cumin seed bay leaf pepper corn cloves hot water coriander leaves lime juice bell pepper (saut?ed and diced) coconut', 'zucchini methi pulao Indian veg zucchini basmati rice fenugreek (methi) clarified butter (desi ghee) clarified butter (desi ghee) cumin seeds (jeera) asafoetida (heeng) green chilles ginger salt', 'lemon rice Indian veg cooked basmati rice oil asafoetida (heeng) mustard seeds (sarson) curry leaves (kadhi patta) whole red chilli (sabut laal mirch) turmeric powder(haldi) salt lemon juice peanuts urad dal chana dal ginger', 'kale channe ki biryani Indian veg black gram (kala chana) basmati rice (soaked for 2 hours) cinnamon green cardamoms cloves ghee black cardamoms black peppercorns bay leaves onions green chillies (slit) ginger-garlic paste coriander powder turmeric powder yogurt fresh mint leaves fresh coriander leaves garam masala powder red chilli powder salt cashew nuts almonds milk fresh cream saffron ginger screw pine essence (kewra) browned onions whole wheat flour dough', 'chicken paella Mexican non-veg chicken oil salt and pepper paprika powder chilli flakes garlic paste onions bell peppers rice vegetable stock saffron peas olives parsley white wine', 'thai fish curry Thai non-veg fish (cubed) thai green curry paste oil onions garlic ginger/galangal coconut milk coriander lemon juice palm sugar basil leaves salt & pepper', 'vegetable pulao Indian veg water basmati rice ghee paneer (cooked) carrot beans peas elaichi cardamoms cinnamon bay leaves cumin seeds chilli powder turmeric salt coriander leaves', 'oats shallots pulao Healthy Food veg Rice Green Coriander Green Chillies Onion Cinnamon Cardamom Cloves Red Chilli Powder Salt Garlic Flakes Ginger Chalet Olive Oil', 'shiitake fried rice with water chestnuts Chinese veg Shitake Mushrooms Vegetable Oil Garlic Buds Green Chillies Water chestnuts Onions Leaks Celery Ginger Sesame Oil Rice Baked White Chillies Salt Rice Wine Vinegar Green Onions Small Bunch Pasarley Sesame Oil', 'lotus leaf wrapped fried rice Chinese veg Jasmine Rice (Baked) Edamame Beans Mock Meat Shitake Mushroom Spring Onion Dark Soy Sauce Sunflower Oil Salt', 'vegetable biryani Indian veg Cumin Onion Ginger Garlic Mix Vegetable Coriander Powder Garam Masala Turmeric Powder Salt Red Chilli Powder Green Chillies Lemon Juice Steamed Rice Green Coriander', 'avial with red rice Indian veg Red rice water potatoes carrots raw banana drumstick small raw mango sour curd bean stick onion salt turmeric water coconut oil green chillies mustard seeds (crushed)', 'rice in lamb stock Thai non-veg Rice desi ghee big cardamom bay leaf cinnamon stick fennel onion lamb bonz royal cumin cashew cream green cardamom powder salt water', 'vegetable bruschetta Italian veg baguette (grilled slices) black olive tapenade artichoke hearts lettuce arugula (trummed) tomato confit fresh basil leaves mint leaves zucchini goat cheese parmesan cheese shavings mozzarella buffalo cheese', 'red wine braised mushroom flatbread Italian veg olive oil fresh buffalo mozzarella cheese canned pelati tomatoes (cooked) pizza/flatbread base mushrooms red wine parsley garlic cloves (halved) salt', 'strawberry & pistachio breton tart Dessert veg plain flour baking powder sea salt unsalted butter egg yoks castor sugar double cream yolk sugar gelatine butter pistachio paste strawberry', 'tricolour pizza Italian veg pizza base  pizza sauce mozzarella cheese black olive green capsicum carrots olive oil', 'instant rava dosa Indian veg rava/suji/semolina rice flour all purpose flour fresh coconut (pieces) jeera green chilli dhaniya onion (diced) salt water oil ghee/clarified butter', 'easy bread poha Indian veg oil hing mustard seeds curry leaves whole red chillies cookes peas peanuts turmeric powder salt bread green chillies lemon juice coriander leaves dessicated coconut', 'bread chana basket Indian veg bread (white/brown) butter for chana chaat: chana onion tomatoes cumin seeds ginger garlic paste chilli powder chana masala turmeric powder  oil salt', 'spaghetti with clams & crispy bread crumbs Italian veg panko 1/4 cup plus 1 tablespoon extra-virgin olive oil plus more for drizzling kosher salt freshly ground pepper garlic cloves manila clams or cockles scrubbed dry white wine spaghetti lemon zest lemon juice mullet bottarga (optional; see note) red pepper thyme rosemary parsley', 'kasha bread French veg kasha boiling water buckwheat flour all-purpose gluten free flour brown sugar baking powder baking soda xanthum gum salt buttermilk cream egg oil walnuts', 'egg paratha Indian non-veg whole wheat flour salt oil eggs onions green chilli coriander leaves garam masala', 'egg and cheddar cheese sandwich Mexican non-veg egg salt pepper ham slices basil leaves', 'egg in a blanket French non-veg eggs brown bread slices butter chilli flakes oregano salt', 'bread dahi vada Indian veg bread slices curd oil salt and black pepper  red chilli powder aamchoor powder mint leaves zeera powder anardana', 'cheese and avocado parantha Mexican veg Wheat flour Kasuri methi water olive oil avocado mozzarella cheese pizza tasting ghee salt', 'bread with tomatoes and olives Italian veg French Bread Loaf Tomato Extra Virgin Olive Oil Salt Black Pepper Passerley Stuffed Green Olive', 'lemon poppy seed cake Dessert veg plain flour baking powder salt castor sugar baking soda eggs butter vanilla essence lemon juice poppy seed lemon peel to serve: lemon syrup whip cream fresh berry', 'chocolate kaju katli Dessert veg cashew nuts sugar water milk chocolate or dark chocolate', 'mix fruit laccha rabri tortilla crunch Mexican veg milk sugar cardamom powder saffron almonds and pistachios grapes apple kiwi orange pomegranate mint leaves tortilla sheet oil', 'pista chocolate & mandarin Dessert veg Pistachios milk sugar broken rice green cardamom white chocolate milk egg yolks whipped cream vanilla pod mandarin sugar water', 'banana and chia tea cake Dessert veg Banana Castor Sugar Flour Oil Milk Eggs Baking Soda Flax Seeds Almond Flakes Chia Seeds', 'chocolate and almond rum ball  Dessert veg Chocolate sponge eggless dark chocolate single cream almonds castor sugar instant coffee powder dark rum', 'lemon sushi cake Dessert veg Vanilla pre mix gel oil water egg yolks lemon juice sugar butter white chocolate cooking cream milk', 'chocolate doughnut Dessert veg Sugar egg yolks egg butter yeast milk', 'spiced almond banana jaggery cake Dessert veg Butter cinnamon molasses powder nutmeg (powdered) almonds sugar eggs orange peel banana flour baking soda baking powder salt buttermilk powdered cinnamon', 'fennel scented sweet banana fritters Dessert veg Wheat flour banana jaggery milk or water ghee or oil', 'camel milk cake tart Dessert veg Camel milk sugar vinegar butter brown sugar maida eggs', 'quinoa coconut crumble custard Dessert veg Knoia (cooked) oats cinnamon powder salt brown sugar or jaggery nuts coconut nuts eggs kinoia coconut milk maple syrup vanilla extract cinnamon powder salt honey', 'lamb barley pot Healthy Food non-veg pot barley onions worcestershire sauce chilli flakes mustard seeds thick mutton chunks thick neck of lamb chops water or stock (to cover) salt black pepper (freshly ground)', 'al hachi chicken Indian non-veg shallow fried chicken bottle gourd (boiled and sun dried) onion garlic whole spices: green cardamom black cardamom cinnamon sticks turmeric deggi mirch fennel seeds powder dry ginger powder coriander powder salt mustard oil desi ghee', 'berry parfait hazelnut white chocolate sable Dessert veg for berry parfait: egg yolk caster sugar berry puree cream cheese double cream for hazelnut streusel: ground hazelnut flour caster sugar butter for hazelnut white chocolate pressed sable: hazelnut streusel cocoa butter puffed rice clarified butter melted white chocolate for flexy berry: raspberry puree sugar liquid glucose pectin', 'badam papite ke kebab with pineapple salsa Indian non-veg Raw papaya raw potato almonds salt asafoetida turmeric celery coriander ginger green chillies gram flour green coriander oil pineapple onion green chillies green coriander lemon juice salt pepper', 'mixed vegetable soup Healthy Food veg Mix vegetable (tomatoes carrots peas and French beans) salt cumin powder oil curry leaves', 'duo of chocolate and strawberry Dessert veg dark chocolate white chocolate strawberries', 'mustard-parmesan whole roasted cauliflower Healthy Food veg cauliflowers garlic halved olive oil  dijon mustard  kosher salt  freshly ground black pepper  fresh parsley leaves parmesan  lemon wedges', 'hassel back sweet potatoes Healthy Food veg sweet potatoes butter brown sugar pure vanilla extract ground cinnamon himalayan pink salt / rock salt', 'mother christmas cake Dessert veg tart apples (2 large) sugar apple juice eggs vegetable oil vanilla extracts all-purpose flour apple pie spice (cinnamon) salt pecans candied red cherries (halved) candied green cherried (halved) candied pineapple (diced) cashews (optional)', 'matcha tea macarons Dessert veg egg whites breakfast sugar icing sugar almond powder matcha powder heavy cream white chocolate', 'amaranthus granola with lemon yogurt berries and marigold Healthy Food veg popped amaranthus (cholai) oats almonds cinnamon powder sunflower seeds sesame seeds honey brown sugar salt olive oil lemon rind plain yogurt (whipped with lemon rind) blueberries', 'chocolate fudge cookies Dessert veg dark chocolate coverture butter sugar eggs flour baking powder salt cocoa powder vanilla essence', 'veg summer rolls Thai veg rice paper sheets iceberg lettuce carrot bean sprouts cucumber tofu basil mint leaves coriander rice noodles (soaked in warm water for 20-25 minutes) peanuts hoisin sauce peanuts garlic oil red chillies water', 'eggless vanilla cake Dessert veg maida baking powder castor sugar butter milk vanilla essence vinegar', 'sweet potato pie Dessert veg yams (red skinned) condensed milk sugar egg  cinnamon  marshmallows ', 'wok tossed asparagus in mild garlic sauce Healthy Food veg asparagus 1 fried onion (medium) 1/2 tsp breakfast sugar 10 ml potato starch 20 ml stock vegetarian 20 gm porcini salt to taste 50 ml oil', 'cinnamon oatmeal pancakes Healthy Food veg rolled oats buttermilk (divided) whole wheat flour or oat flour baking powder baking soda cinnamon salt eggs canola oil  honey or maple syrup', 'chocolate chip cheesecake Dessert veg butter biscuits (broken into pieces) butter (softened) cream cheese (softened) sugar egg rose essence or vanilla essence chocolate chips', 'chocolate lava cake Dessert veg dark chocolate butter icing sugar egg yolks + whole eggs flour', \"eggless coffee cupcakes Dessert veg maida/ flour baking powder sugar cocoa powder vanilla essence butter (softened salted. in case you are using unsalted butter add 1/4 tsp salt) milk (to make the batter smooth. adjust the milk quantity according to your batter's smoothness) coffee powder + 1 tsp water to make a paste (you can increase or decrease according to your coffee tolerance)\", 'chicken in white wine Italian non-veg black pepper plain flour olive or sunflower oil rashers lean bacon onions or shallots (cut in half) mushrooms butter boneless and skinless chicken breasts (chopped into 3cm pieces) dry white wine chicken or vegetable stock garlic cloves bay leaves fresh thyme sprigs (washed or 1/2 tsp dried thyme)', 'apple and walnut cake Dessert veg Apple Eggs Walnuts Sugar Walnuts Oil Flour Baking Powder Cinnamon Powder', 'gluten free almond cake Healthy Food veg Almond Powder Egg Honey Baking Soda Vanilla Essence Salt Honey Almond', 'cinnamon star cookies Dessert veg Butter Castor Sugar Christmas Mix Spicy Cinnamon Powder Honey Glucose Cream Poultry Flour Baking Soda Bread Flour', 'whole wheat cake Healthy Food veg Oven temperature wheat flour jaggery sugar baking powder oil eggs water almond essence walnuts', 'plum cake Dessert veg oven temp: 150 c-300 f butter sugar eggs almonds vanilla essence mixed fruits (sultanas raisins candied peels and cherries) refined flour', 'double chocolate easter cookies Dessert veg Butter Brown Sugar Castor Sugar Vanilla Essence Dark Chocolate Refined Flour Cocoa Powder Baking Soda Salt Milk Cadbury Gems', 'holi special malai kofta Indian veg potatoes paneer (cottage cheese) maida coriander leaves (chopped) onion ginger-garlic paste tomatoes malai or cream raisins and cashew nuts cashew nuts paste haldi red chilli powder kitchen king masala kasuri methi (dry fenugreek) salt sugar', 'homemade gulab jamun Dessert veg sugar water milk cardamom seeds saffron cardamom powder khoya baking soda maida milk', 'lamb rogan josh French non-veg lamb chops or stewing lamb vegetable oil cassia bark or cinnamon stick bay leaves green cardamoms onions garlic cloves butter turmeric chilli powder ground cumin ground coriander tomato puree salt garam masala lemon juice', 'fish curry Thai non-veg fresh sole fish black pepper powder lemon (juiced) onion coriander seeds black pepper raw rice garlic cloves coconut coriander leaves ginger (large) cinnamon powder clove powder ground nut oil tamarind paste cooking oil salt', 'rice kheer Indian veg milk rice (washed) sugar raisins green cardamoms almonds (shredded)', 'assorted rice kheer sushi Japanese veg basmati rice milk sugar pistachio almonds green cardamoms(powdered) saffron rose water rose petals (dried) dark chocolate', 'jalebi with fennel yogurt pudding Dessert veg all purpose flour yogurt oil sugar water saffron green cardamom yogurt (strained) milk (warm) sugar nutmeg cardamom powder', 'broccoli souffle Italian veg broccoli butter extra virgin olive oil all-purpose flour low fat milk salt black pepper cheddar cheese eggs (separated) egg whites cream of tarter', 'christmas dry fruit cake Dessert veg butter (at room temperature) dark brown sugar eggs flour salt all spice powder cinnamon nutmeg currants; golden raisins; dark raisins (each) soft dried figs dates (pitted) prunes (stoned dried) apricots (dried) almonds (chopped) brandy instant espresso (mixed with 1 tbsp water)', 'microwave chicken steak Healthy Food non-veg chicken breasts (boneless) eggs (slightly whisked) ginger paste garlic paste onions coriander leaves green chillies black pepper powder flour vinegar salt oil', 'cheese and ham roll Snack veg hung curd butter cream ground pimento lemon juice vodka salt and pepper asparagus spears(cooked) ham pineapple slices', 'vegetable manchurian Chinese veg mixed vegetables - chopped fine or grated eggs (slightly beaten) refined flour garlic paste ginger paste water oil  garlic  onions  capsicum cornflour (blended with water) vinegar salt soya sauce tomato puree celery ajinomoto (optional) water', 'jerk chicken Indian non-veg chicken legs lime (halved) jerk seasoning powder (bottled) jerk seasoning paste (bottled) olive oil', 'lemon poppy seed cake  Dessert veg Flour Baking Powder Salt Castor Sugar Baking Soda Eggs Butter Vanilla Essence Lemon Juice Poppy Lemon Peel Lemon Syrup Wiped Cream Fresh Berry', 'steam bunny chicken bao  Japanese non-veg Buns Flour Dry Yeast Sugar Salt Hot Water Chicken Mince Eggs Soy Sauce Sugar Sesame Oil Worcestershire Sauce Chives Aromat Powder', 'double chocolate easter cookies  Dessert veg Butter Brown Sugar Castor Sugar Vanilla Essence Dark Chocolate Refined Flour Cocoa Powder Baking Soda Salt Milk Cadbury Gems', 'orange quinoa sevaiyan Healthy Food veg sevaiyan quinoa orange juice  dried figs sugar almond milk desi ghee jaggery walnuts melon seeds peanuts', 'spicy creamy kadai chicken Indian non-veg chicken ginger-garlic paste pepper powder lime juice oil salt tomatoes green chillies ginger-garlic paste chilli powder black cardamoms cloves water onion ginger green chillies chilli powder turmeric powder garam masala kasturi methi cream', 'apple kheer Dessert veg apples basmati rice nuscovado sugar (you can also use normal sugar) cashew nuts and almonds cassia bark or cinnamon stick red grapes', 'ragi oats ladoo (laddu) Dessert veg ragi flour oats flour dates (ripe) milk honey ghee green cardamom powder white sesame seeds coconut powder cashew nuts', 'lamb korma Indian non-veg onions almond paste ghee cinnamon sticks green cardamom cloves mace bay leaves garlic paste ginger paste lamb salt rose water (infused with 4-5 strands of saffron) yellow chilli powder yogurt yellow chilli powder black pepper powder coriander seed powder cumin powder red chilli powder turmeric powder clove powder green cardamom powder rose petal powder nutmeg powder black cardamom powder fennel powder cinnamon powder mace powder onions cream/malai', 'ragi coconut ladoo (laddu) Dessert veg finger millet flour (ragi) jaggery peanuts coconut salt', 'quick chicken curry Indian non-veg Chicken onion paste tomato garlic paste ginger paste coriander powder cumin powder turmeric powder red chilli powder garam masala powder oil salt green coriander', 'chicken shaami kebab Indian non-veg Chana Dal Chicken Thai Salt Whole Red Chillies Cumin Whole Coriander Cloves Pepper Whole Cinnamon Stick Celery Eggs Green Coriander Mint Green Chillies Ginger Garlic Buds Oil', 'chicken masala Indian non-veg Chicken ginger garlic onion tomato garam masala bay leaves salt turmeric coriander powder red chilli powder oil green coriander cream', 'holi special bhang pakode Indian veg besan potato fresh bhang leaves spinach bhang seed powder ajwain fresh green chilly  salt tamarind paste red chilly powder mustard seeds whole red chilli soda', 'kuttu atta pizza Italian veg kuttu atta salt sugar yeast mozzarella cheese fresh tomato basil cottage cheese green chillies olive oil salt black pepper (crushed) oregano', 'arbi kofta with mint yogurt dip Snack veg arbi/colocasia roots water chestnut flour (kuttu ka aata) green chili ginger carom seeds rock salt oil mint curd cucumber pomegranate', 'puffed rice squares Snack veg puffed rice nuts honey jaggery butter kewda to flavor cardamom powder', 'red velvet banana pudding Dessert veg one can of sweetened condensed milk ice cold water instant vanilla pudding mix cream cheese (softened and cut into 8 pieces) heavy cream one 9 x 13 inch layer of red velvet cakcake ripe bananas mini chocolate chips sugar cocoa cake flour baking soda salt butter (room temp cut into 1 inch pieces) eggs milk sour cream cider vinegar vanilla extract red food coloring all-purpose flour milk unsalted butter (room temperature) sugar vanilla extract', 'baked wild berry cheesecake Dessert veg butter digestive biscuits berries cream cheese castor sugar vanilla extract egg (lightly beaten) icing sugar', 'spiced orange valencia cake Dessert veg egg whites egg white powder sugar almond powder hazelnut powder sugar hazelnut (toasted)', 'jalapeno cheese fingers Mexican veg yellow cornmeal sugar baking soda salt buttermilk (well-shaken) egg cheddar (extra sharp) scallion (white and pale green parts only) pickled jalapenos (drained) unsalted butter', 'californian breakfast benedict Snack veg brioche loaf avocado paste eggs tomato spinach nutmeg powder phyllo pastry sheet assorted seasonal fruits hollandaise sauce', 'chocolate marquise Dessert veg dark chocolate (melted) castor sugar egg yolk egg cocoa powder coffee cream berries dark chocolate fresh cream', 'corn & jalapeno poppers Mexican veg fresh corn kernels corn flour whole egg cheddar cheese jalapeno poppers smoked paprika coriander (toasted & ground) green onions fresh cilantro lemon (zest and juice) cooking oil', 'banana phirni tartlets with fresh strawberries Snack veg basmati rice (soaked in water) milk cardamom powder milk saffron sugar banana fresh strawberries plain flour butter (chilled) castor sugar egg yolk chilled water', 'mexican pizza Mexican veg Dough tortia refried beans bell paper spring onion lettuce mozzarella cheese orange cheddar cheese chitpole dressing for pico de chelo tomato onion lemon juice salt green chilli coriander black beans (boiled ) Tomato onion vine paper vegetable oil', 'apple and pear cake Healthy Food veg Core Chopped and Sliced ??Apple Core Chopped and Sliced ??Pears Castor Sugar Vanilla Essence Sunflower Oil Eggs Flour Milk Baking Powder Milk Cinnamon Stick Egg yolks Castor Sugar', 'microwave chocolate cake Dessert veg Flour castor or powdered sugar oil butter or margarine cocoa powder water vanilla essence baking soda baking powder salt egg', 'white chocolate and lemon pastry Dessert veg White chocolate fresh cream VIP cream vanilla bean vanilla extract cream cheese gelatin lemon egg yolks butter castor sugar', 'mixed beans salad Healthy Food veg mixed boiled beans (choose from rajma chawli chick peas hara chana) spring onions tomatoes (diced) oil lemon juice basil garlic salt and pepper for garnish: coriander', 'baked raw banana samosa Snack veg onion ginger curry powder fresh coriander green chilli raw banana paste refined oil mustard seeds phyllo sheets salt', 'coconut mango oatmeal with cinnamon hint Healthy Food veg coconut (tender) coconut milk oats ripe mango (diced) castor sugar dry fruits honey cardamom powder', 'fruit cube salad Healthy Food veg watermelon cantaloupe kiwifruiit pineapple marshmallow mint leaf (crushed nuts sesame seeds or cinnamon)', 'veg hakka noodles Chinese veg noodles salt oil garlic paste ginger paste beans cabbage carrot spring onion capsicum soy sauce green chilli sauce tomato sauce', 'strawberry quinoa pancakes Healthy Food veg quinoa milk olive oil egg (slightly beaten) baking powder orange essence castor sugar maple syrup strawberries (to garnish)', 'spinach & banana pancakes Healthy Food veg Rolled Oats Milk Spinach Banana Egg Cinnamon Powder Vanilla Extract Baking Powder', 'french onion grilled cheese French veg Brown slice bread onion oil emmental cheese', 'pasta in cheese sauce Italian veg Milk Flour Butter Pepper Powder Nutmeg Cheese Pasta (of your choice)', 'deviled scotch egg French non-veg Lamb Keema Rosemary Thyme Eggs (hard boiled peel) Flour Eggs (Lightly Whipped) Panco Peanut Oil Salt Pepper Mayonnaise Apple Cedar Vinegar English Mustard Salt Pepper Paprika and Olive Powder', 'amritsari fish Indian non-veg fish with curry ginger and garlic', 'butter chicken Indian non-veg mughalai delecacy', 'chicken razala Indian non-veg chicken cooked in a rich gravy with mint', 'chicken tikka Indian non-veg  served on a skewer', 'chicken tikka masala Indian non-veg chicken roasted in a yogurt tomato sauce. creamy texture.', 'mushroom matar Indian veg mushroom and peas in a masala/chili sauce', 'tandoori chicken Indian non-veg as a dish originated in the punjab before the independence of india and pakistan.', 'tandoori fish tikka Indian non-veg chickenn lime and ginger and cooked over an open fire.', 'chettinadu chicken Indian non-veg chicken and spices', 'chicken 65 Chinese non-veg ed chicken preparation. chicken onion ginger', 'kolim / jawla Indian veg dried fish named kolim or jawla found in coastal maharashtra with onion and spices. usually eaten with bhakri or chapati', 'black rice Healthy Food veg riety of rice', 'brown rice Healthy Food veg riety of rice.', 'koldil chicken Chinese non-veg made with banana flower; an assamese specialty', 'red rice Healthy Food veg riety of rice.', 'rice Indian veg boiled rice', 'sunga pork Japanese veg curry', 'banana chips Snack veg dried slices of bananas (fruits of herbaceous plants of the genus musa of the soft sweet \"dessert banana\" variety) they can be covered with sugar or honey and have a sweet taste or they can be fried in oil and spices and have a salty and/or spicy taste.[2]', 'bhurji- egg Indian non-veg made using indian spices onion tomatoes green chilli and had with bread or parathas.', 'flattened rice / poha Indian veg dehusked rice which is flattened into flat light dry flakes these flakes of rice swell when added to liquid whether hot or cold as they absorb water milk or any other liquids. the thicknesses of these flakes vary between almost translucently thin (the more expensive varieties) to nearly four times thicker than a normal rice grain.', 'puffed rice Snack veg grain made from rice; usually made by heating rice kernels under high pressure in the presence of steam though the method of manufacture varies widely. pori (puffed rice) has been mentioned in various tamil literatures as an offering to hindu deities. offerings of pori and jaggery made to vinayagar (lord ganesh) are mentioned in the tiruppugazh a 15th-century anthology of tamil religious songs written by tamil poet arunagirinathar. pori is offered to hindu gods and goddesses in all poojas in the south indian states of kerala and tamil nadu.', 'Miso-Butter Roast Chicken With Acorn Squash Panzanella Japanese non-veg chicken acorn squashsage rosemary butter', 'Honeydew Salad with Ginger Dressing and Peanuts Healthy Food veg peeled ginger lightbrown sugarchilli honeydew meloncucumber avacado', 'Kimchi and Miso Noodle Soup Korean veg scallions cloves of garliccabbage kimchi tofu ', 'Spicy Korean Steak Korean non-veg  boneless steak olive oil black pepper oyster sauce  ginger chilli flakes cooking wine kimchicilantro', 'French Spiced Bread French veg all purpose flour butter dried appricots honey milk dried plumps sugarsalt', 'Quinoa Bowl and Berries Healthy Food veg quinoa black berriesstrawberries blueberrieschia seeds almonds', 'Shawarma-Spiced Braised Leg of Lamb Indian non-veg cumin seed garlic chilli powder lamb leg corriender onion turmeric powder lemon tomato', 'Roast Pork Tenderloin with Carrot Romesco  Korean non-veg carrots Olive Oil Salt   pork tenderloin Garlic red pepper flake red wine vineger ', 'Ricotta Gnocchi with Asparagus Peas and Morels Italian veg  ricottaAsparagus  morel mushrooms Olive Oil  Parmesan fresh peas butter black pepper  shallot ', 'Crispy Pakora Indian veg Cabbage carrot onion gram flour', 'Lamb Tikka Indian non-veg Boneless Lamb Turmeric powder corriender powder cumin powder yogurt garlic giner', 'Grilled Sweet Prawn Chinese non-veg Prawn teriyaki sauce salmon avacado cucumber', 'Pho Tai rare beef Vietnames non-veg Bean Sprouts lemon Thai basils Rice noodles beef', 'Summer Rolls Vietnames non-veg Mint Lettuce Noodles Prawn Rice PaperPeanut Sauce', 'Spice Chicken Baugette Vietnames non-veg Spice Chicken cucumber coriander pickled carrort mayo', 'Bean Curd Rolls Vietnames veg bean curdmix herbs lettuce cucuber rice paper', 'Pho Chay Soup Vietnames veg Rice noodlevegatable soup bean curd mushroom', 'Pho Ga Chicken Vietnames non-veg Rice noodle chicken lemon bean sprouts Thai basils chicken', 'Chicken Sweet Corn Soup Chinese non-veg ChickenChicken brouth Sweet corn garlic ginger', 'Thai Spareribs Thai non-veg  lemongrass ginger meaty sparerib Sesame-Cilantro Ricepeanut saucesesame oilgarlic soy sauce ', 'Frenched Green Beans French veg  green beans Olive Oil black paper vineger', 'Lemony Crab Salad with Baby Greens Healthy Food non-veg Lemon juice olive oil crab lecttus papersalt vineger', 'Mushroom Manchruian Indian veg Mushroom Panner Soy sauce ketchup Vinigeronion corriender Indian Spices', 'Biryani Indian non-veg Chicken Rice Cinamon Clove ginger garlic yougurt turmeric powder cumin powder corriender powder', 'Tandoori Chicken Indian non-veg Cicken yougurt tandori spices ginger coriander turmeric lime', 'Shrimp Olivier French non-veg Shrimp egg Potatoes carrot onion pasley mayo', 'Potato Casserole Italian veg potatoes butter salt pepper', 'Thyme-Roasted Sweet Potatoes Healthy Food veg sweet potatoes thyme leaves olive oil red papper flakes', 'Noodle Curry Vietnames non-veg Vegetable stock curry coconut lime leaves raddish carrot', 'Grill Lemon grass Pork baguette Vietnames non-veg Lemon grass pork coriendercucumber pickeled carrot chilli', 'Sukuti Chatpate Nepalese non-veg crunchy noodles onion cucumbertomatoes lemon juice puffed rice dried meat', 'Cheese Naan Indian veg Aall purpose flour yougurt cheese', 'Mushroom Rice Nepalese veg Mushroom Rice Cumin Seeds', 'Bringle Alo Nepalese veg auberginepotato garlic ginger cumin seeds spices', 'Mutar Paneer Indian veg Green pea cottage cheese garlic indian spices', 'Cucumber and Radish Salad Healthy Food veg cucumberraddishvinegar corianderolive salt papper', 'Channa Masala Indian veg chickpeas turmeric powder onion ginger garlic curry powder', 'Saag Alo  Nepalese veg Spinach onion potato cumin seed turmeric powder nepali spices', 'Alo Tama Bodi Nepalese veg bamboo shoot black eye bean potato', 'Tarka Daal Nepalese veg yello lentilsgarlic cumin seed butter', 'Jeera Alu Nepalese veg boiled potatoes cumin seeds lemon juice', 'Nepali Chicken Curry Nepalese non-veg boneless chicken onion tomato coriender powdercumin powderbutterturmeric chilli powder garlicginger', 'Lamb Shashlik Indian non-veg minced lamb marinated with indian spices garlic ginger coriander yogurt turmeric cloves', 'Hyakula Nepalese non-veg lamb ribs cumin powderturmeric powdernepali spices mustard oil ', 'Alo Achar Nepalese veg boiled potatoes peas cucumber mustard oil turmeric powder cumin powder carrot salt', 'Chicken Momo Nepalese non-veg minced chicken meat coriender cumin powdergarlicgingeronionflour wrapping', 'Black-Bean Burgers Chinese veg cumin black bean cilantro lettucesour cream oregano buns', 'Parmesan Toasts Italian veg Bread garlic olive oil Parmesan cheese salt', 'Rice with Soy-Glazed Bonito Flakes and Sesame Seeds Japanese non-veg sake sesame seeds soy sauce rice japanese sauces', 'Shirazi Salad Healthy Food veg Spring onion cheese lemon juice cucumber onion carrot parsley cilantro', 'Sesame Noodles with Chili Oil and Scallions Chinese veg Noodles Saltgarlicchilli oil sesame oil chilli flakes scallions sichuan pepper vinegar soy sauce', 'Thai Green Curry  Thai veg cumin seeds coriander seeds chillies garlic ginger onion thai sauceslemon grass penut ', 'Ground Pork Menudo Spanish non-veg onion garlic olive oil minced pork fish sauce  green peas black peper', 'Bao Bun  Chinese non-veg sesame seed all purpose flour spring onion teriyaki sauce', 'Garlic Naan Indian veg garlic all purpose flour yougurt cumin seed', 'Egg Curry with Tomatoes and Cilantro Indian non-veg boiled egg cilantro garliccucumbertumeric powdertomatoes', 'Kimchi Bokumbab Korean non-veg Cabbage Kimchi Stir fried eggs rice seaweed sesame seeds spring onion', 'Korean fried Chicken Korean non-veg  korean sauce boneless chickensesame seeds', 'Prawn kastu Curry Japanese non-veg prawn rice japanes curry sauce bread crumbs rice', 'Beef Bibimbab Korean non-veg BeefCucumbercarrot mushroomsSpinichRice Gochujang Soy sauce', 'Sweet and Sour Chicken Fried Rice Chinese non-veg  Rice carrot peas chicken soy sauce sugar garlic capcicum', 'Sea Food Soup Chinese non-veg PrawnSquid fish ball fish cake mussels crab sticks', 'Pad Thai Thai non-veg noodles vegetable oil garlic eggs lime juice  brown sugar fish sauce gingerred pepper flakes onion cilantro penuts', 'Spicy Kimchi Tofu Stew Korean veg tofu kimchi gochujangblack pepper  sesame seeds soy sauce scallions', 'Slow-Roasted Pork  Korean non-veg fresh sagegarlic cloves bone-in pork shoulderground pepperDijon mustard', 'Pico de Gallo Verde Mexican veg avacado tomato cucumbercelery garlic mint lemon juice chillies onion cilantro', 'Pineapple-Coconut Rice Thai veg brown rice coconut milk onion carrot cashew pineapple vegetable oil ginger curry powder', 'Lamb and Green Squash Dumplings Chinese non-veg Squash zucchini scallions soya sauce ginger cooking wine vineger all purpose flour sichuan peppercornsground lamb', 'Crispy Tofu Balls Japanese veg  tofu scallions mushroomsSpicy aiolicorn white pepper vegetable oil', 'Grilled Chicken with Almond and Garlic Sauce Healthy Food non-veg lemon juice olive oil mushrooms lemon zest chicken breast roasted almonds garlic', 'Parmesan Cauliflower and Parsley Salad Italian veg olives parmesan cheese pasleypepperoil', 'Vietnamese Chicken Salad Vietnames non-veg roasted peanutsbasil leaves mint leaves chicken cucumbercarrot', 'Eggplant and Beef Stir-Fry Thai non-veg soya saucemintthai chilliesvermicelli noodlesbeef asaian eggplat', 'Stir-Fried Lettuces With Crispy Shallots Chinese non-veg sliced shallotspeppersaltgarlic ginger lettucebrown rice', 'Chicken and Dumplings Chinese non-veg purpose floureggnutmeg chicken broth carrotsaltchives pepper chicken thighs', 'Asian Salmon Bowl with Lime Drizzle Thai non-veg  jasmine rice garlic butter soy sauce salmon filletspinachblack sesame seeds', 'Pasta with Garlic-Scape Pesto Italian veg pistachios Parmigiano-Reggiano cheesesalt and black pepper spaghettiolive oil', 'Pico de Gallo Mexican veg oniontomatoes oil  cilantro jalapeao', 'Basmati Rice with Summer Vegetable Salad Indian veg basmati riceshallotradishesgreens sprouts tomatoes peas summer squashcarrot oilsalt', 'Fresh Corn Tortillas Mexican veg corn tortilla mixcornsalt', 'Quinoa Tabbouleh Healthy Food veg  quinoa olive oil tomato  cucumber parsley mint scallions thinly sliced', 'Grilled Clams With Herb Butter French non-veg  parsley pepper salt scallion lemon juice littleneck clams', 'Rajas Poblanas Mexican veg poblano pepper cream salt cream cheese', 'Braised Beef Short Ribs Korean non-veg Beef Scallion Raddish Spanich ', 'Fig and Sesame Tart with Cardamom Orange Cream Dessert non-veg  all-purpose floursugarsaltunsalted butter egg yolkheavy cream cinnamonorange zest figsesame seeds mild honey', 'Rouille French veg  bread crumbscayenne extra-virgin olive oilcoarse sea salt garlic', 'Kimchi Toast Korean veg  cream cheese chopped kimchi scallionscountry-style bread sesame seeds  cilantro leaves', 'Tacos de Gobernador (Shrimp Poblano and Cheese Tacos) Mexican non-veg poblano chiles bacon shrips red salsa garlic corn tortillas lime juice', 'Melted Broccoli Pasta With Capers and Anchovies French non-veg broccoliBread Crumbs  anchovy fillets garlic cloves  red pepper flakes penne pasta olive oil', 'Lemon-Ginger Cake with Pistachios Dessert non-veg egg yolkslemon juice unsalted butter all purpose flour sugar ginger milk', 'Rosemary Roasted Vegetables Healthy Food veg kosher salt rosemary garlic potato olive oil carrot walnut cheese ground pepper']\n"
     ]
    }
   ],
   "source": [
    "print(combinedFeatures)"
   ]
  },
  {
   "cell_type": "code",
   "execution_count": 13,
   "id": "dfb52d6c-76a0-40a4-a1d0-678931489807",
   "metadata": {},
   "outputs": [
    {
     "name": "stdout",
     "output_type": "stream",
     "text": [
      "baked namak para Snack veg whole wheat flour (atta) refined flour (maida) baking powder ghee salt carom seeds (ajwain)\n"
     ]
    }
   ],
   "source": [
    "print(combinedFeatures[21])"
   ]
  },
  {
   "cell_type": "code",
   "execution_count": 15,
   "id": "54e27dbc-b1b2-4a4a-bfab-cd78de1836d4",
   "metadata": {},
   "outputs": [],
   "source": [
    "vectorizer = TfidfVectorizer()"
   ]
  },
  {
   "cell_type": "code",
   "execution_count": 16,
   "id": "c574cc4b-3af1-49ee-b249-d634ddfed3ce",
   "metadata": {},
   "outputs": [],
   "source": [
    "featureVector = vectorizer.fit(combinedFeatures)"
   ]
  },
  {
   "cell_type": "code",
   "execution_count": 17,
   "id": "0a104a38-4368-4666-8d8d-91f46c561508",
   "metadata": {},
   "outputs": [],
   "source": [
    "featureVector = vectorizer.transform(combinedFeatures)"
   ]
  },
  {
   "cell_type": "markdown",
   "id": "478f2a07-5f22-4988-8f11-8c2ad8782cb8",
   "metadata": {},
   "source": [
    "Generating similaity matrix score using Cosine Similarity"
   ]
  },
  {
   "cell_type": "code",
   "execution_count": 18,
   "id": "237b9c85-6cba-44b6-82e8-34162bd6f30d",
   "metadata": {},
   "outputs": [],
   "source": [
    "similarity = cosine_similarity(featureVector)"
   ]
  },
  {
   "cell_type": "code",
   "execution_count": 20,
   "id": "553a7111-a960-46a3-8b97-e2156d5f1fc0",
   "metadata": {},
   "outputs": [
    {
     "name": "stdout",
     "output_type": "stream",
     "text": [
      "[[1.         0.17952959 0.08159817 ... 0.07412383 0.07384476 0.10275321]\n",
      " [0.17952959 1.         0.11949727 ... 0.10184851 0.06712536 0.15705625]\n",
      " [0.08159817 0.11949727 1.         ... 0.02060766 0.07078896 0.0144069 ]\n",
      " ...\n",
      " [0.07412383 0.10184851 0.02060766 ... 1.         0.03868736 0.05588566]\n",
      " [0.07384476 0.06712536 0.07078896 ... 0.03868736 1.         0.0037409 ]\n",
      " [0.10275321 0.15705625 0.0144069  ... 0.05588566 0.0037409  1.        ]]\n"
     ]
    }
   ],
   "source": [
    "print(similarity)"
   ]
  },
  {
   "cell_type": "markdown",
   "id": "9a9a740c-d415-4336-ab71-2d8663a4945e",
   "metadata": {},
   "source": [
    "Generating a list with all movie titles of the Dataset"
   ]
  },
  {
   "cell_type": "code",
   "execution_count": 21,
   "id": "0c81885b-68b4-4220-bf34-5e17653ccff0",
   "metadata": {},
   "outputs": [],
   "source": [
    "Listallfood = fooData['Name'].tolist()"
   ]
  },
  {
   "cell_type": "code",
   "execution_count": 22,
   "id": "efd712dc-1582-4597-88fe-4822d9d63651",
   "metadata": {},
   "outputs": [
    {
     "name": "stdout",
     "output_type": "stream",
     "text": [
      "['summer squash salad', 'chicken minced salad', 'sweet chilli almonds', 'tricolour salad', 'christmas cake', 'japanese curry arancini with barley salsa', 'chocolate nero cookies', 'lamb and chargrilled bell pepper soup', 'cream of almond soup', 'broccoli and almond soup', 'coconut lime quinoa salad', 'lemon honey glazed sous vide corn on the cob', 'watermelon and strawberry smoothie', 'peach, raspberry and nuts smoothie', 'almond and cranberry poha', 'almond and raw banana galawat', 'baked namakpara with roasted almond dip', 'grilled almond barfi', 'baked shankarpali ', 'baked multigrain murukku', 'apple rabdi', 'baked namak para', 'dates and nuts ladoo', 'green lentil dessert fudge', 'cashew nut cookies', 'almond pearls', 'hawaiin papaya salad', 'vegetable som tam salad', 'spinach and feta crepes', 'couscous with ratatouille - tangy tomato sauce', 'baked almond kofta', 'almond and amaranth ladoo', 'moong dal kiwi coconut soup', 'mixed berry & banana smoothie', 'banana walnut smoothie', 'spicy watermelon soup', 'red rice poha', 'mixed salad with lotus root', 'sweet potato and quinoa bowl', 'corn and raw mango salad', 'khichdi', 'sugar free modak', 'beetroot modak', 'andhra pan fried pomfret', 'ghee roast chicken dosa quesadilla', 'steam bunny chicken bao', 'meat lovers pizza', 'almond and chicken momos (without shell)', 'christmas tree pizza', 'french pork chop', 'christmas chocolate fudge cookies', 'chicken parmigiana with tomato sauce', 'chocolate appe', 'sous-vide salmon tikka', 'filo pizza', 'chocolate samosa', 'fish with jamun sauce', 'dahi lasooni chicken', 'pesto fish kebabs', 'caramelized sesame smoked almonds', 'crunchy vegetable dal sattu croquettes', 'active charcoal modak', 'flax seed and beetroot modak', 'chocolate prunes gujiyas', 'almond  white chocolate gujiya', 'betel nut popsicle', 'clotted cottage cheese croquettes', 'gajar tart', 'banana and maple ice lollies', 'shepherds salad (tamatar-kheera salaad)', 'carrot ginger soup', 'dark night', 'hot chocolate', 'slow cooked spiced sangria', 'detox haldi tea', 'holi special ice tea thandai', 'grilled lemon margarita', 'spanish artichoke and spinach dip', 'beetroot and green apple soup', 'baba budan no. 7', 'fruit infused tea', 'soya milk', 'spiced coffee', 'filter coffee', 'garlic and pinenut soup with burnt butter essence', 'roast turkey with cranberry sauce', 'roasted spring chicken with root veggies', 'peri peri chicken satay', 'chicken popcorn', 'half roast chicken', 'chicken biryani', 'chicken farcha', 'buldak (hot and spicy chicken)', 'chicken sukka', 'steamed chicken roulade', 'methi chicken masala', 'restaurant style fried chicken', 'chicken potli', 'spicy chicken masala', 'spicy chicken curry', 'crispy herb chicken', 'dahi chicken', 'amritsari chicken masala', 'chilli chicken', 'chicken tenders', 'chicken nimbu dhaniya shorba', 'garlic soya chicken', 'cauliflower and chicken biryani', 'chicken quinoa biryani', 'chicken and mushroom lasagna', 'plum and cherry roasted chicken', 'chicken roulade', 'sticky rum chicken wings', 'chicken dragon', 'chicken palwal', 'pan seared thigh of chicken', 'chicken in mahalak sauce', 'grilled kasundi honey chicken with sweet potato mash', 'chicken dong style', 'microwave tandoori chicken', 'methi malai cranberry chicken', 'southern fried chicken tenders', 'thai style chicken tikka', 'chicken gilafi kebab', 'cheese chicken kebabs', 'andhra crab meat masala', 'cajun spiced turkey wrapped with bacon', 'thai lamb balls', 'oyster lamb', 'chicken shami kebab', 'balti meat', 'coffee marinated mutton chops', 'sali boti (parsi meat dish)', 'braised lamb shanks', 'bengali lamb curry', 'malabari fish curry', 'japanese fish stew', 'malabar fish curry', 'surmai curry with lobster butter rice', 'seared salmon in tabasco butter', 'risotto lobster with parmesan egg pancake, confit tomatoes and coral tuille', 'fish skewers with coriander and red wine vinegar dressing', 'seafood rock filler', 'shrimp & cilantro ceviche', 'saewoo bokumbop (shrimp fried rice)', 'thai prawn curry & baked rice ', 'bihari fish curry', 'curry fish fingers', 'prawn and litchi salad', 'kerala fish curry', 'fish andlouse', 'prawn fried rice', 'damdama fish curry', 'fish with white sauce', 'chilli fish', 'fish ambultiyal', 'chettinad fish fry', 'fish moilee', 'batter fish', 'fish salan', 'spanish fish fry', 'prawn potato soup', 'red rice vermicelli kheer', 'green cucumber shots', 'thai pineapple rice', 'green asparagus risotto', 'veg fried rice', 'egg and garlic fried rice', 'curd rice', 'fried rice with soya chunks', 'corn pulao', 'zucchini methi pulao', 'lemon rice', 'kale channe ki biryani', 'chicken paella', 'thai fish curry', 'vegetable pulao', 'oats shallots pulao', 'shiitake fried rice with water chestnuts', 'lotus leaf wrapped fried rice', 'vegetable biryani', 'avial with red rice', 'rice in lamb stock', 'vegetable bruschetta', 'red wine braised mushroom flatbread', 'strawberry & pistachio breton tart', 'tricolour pizza', 'instant rava dosa', 'easy bread poha', 'bread chana basket', 'spaghetti with clams & crispy bread crumbs', 'kasha bread', 'egg paratha', 'egg and cheddar cheese sandwich', 'egg in a blanket', 'bread dahi vada', 'cheese and avocado parantha', 'bread with tomatoes and olives', 'lemon poppy seed cake', 'chocolate kaju katli', 'mix fruit laccha rabri tortilla crunch', 'pista chocolate & mandarin', 'banana and chia tea cake', 'chocolate and almond rum ball ', 'lemon sushi cake', 'chocolate doughnut', 'spiced almond banana jaggery cake', 'fennel scented sweet banana fritters', 'camel milk cake tart', 'quinoa coconut crumble custard', 'lamb barley pot', 'al hachi chicken', 'berry parfait hazelnut white chocolate sable', 'badam papite ke kebab with pineapple salsa', 'mixed vegetable soup', 'duo of chocolate and strawberry', 'mustard-parmesan whole roasted cauliflower', 'hassel back sweet potatoes', 'mother christmas cake', 'matcha tea macarons', 'amaranthus granola with lemon yogurt, berries and marigold', 'chocolate fudge cookies', 'veg summer rolls', 'eggless vanilla cake', 'sweet potato pie', 'wok tossed asparagus in mild garlic sauce', 'cinnamon oatmeal pancakes', 'chocolate chip cheesecake', 'chocolate lava cake', 'eggless coffee cupcakes', 'chicken in white wine', 'apple and walnut cake', 'gluten free almond cake', 'cinnamon star cookies', 'whole wheat cake', 'plum cake', 'double chocolate easter cookies', 'holi special malai kofta', 'homemade gulab jamun', 'lamb rogan josh', 'fish curry', 'rice kheer', 'assorted rice kheer sushi', 'jalebi with fennel yogurt pudding', 'broccoli souffle', 'christmas dry fruit cake', 'microwave chicken steak', 'cheese and ham roll', 'vegetable manchurian', 'jerk chicken', 'lemon poppy seed cake ', 'steam bunny chicken bao ', 'double chocolate easter cookies ', 'orange quinoa sevaiyan', 'spicy creamy kadai chicken', 'apple kheer', 'ragi oats ladoo (laddu)', 'lamb korma', 'ragi coconut ladoo (laddu)', 'quick chicken curry', 'chicken shaami kebab', 'chicken masala', 'holi special bhang pakode', 'kuttu atta pizza', 'arbi kofta with mint yogurt dip', 'puffed rice squares', 'red velvet banana pudding', 'baked wild berry cheesecake', 'spiced orange valencia cake', 'jalapeno cheese fingers', 'californian breakfast benedict', 'chocolate marquise', 'corn & jalapeno poppers', 'banana phirni tartlets with fresh strawberries', 'mexican pizza', 'apple and pear cake', 'microwave chocolate cake', 'white chocolate and lemon pastry', 'mixed beans salad', 'baked raw banana samosa', 'coconut mango oatmeal with cinnamon hint', 'fruit cube salad', 'veg hakka noodles', 'strawberry quinoa pancakes', 'spinach & banana pancakes', 'french onion grilled cheese', 'pasta in cheese sauce', 'deviled scotch egg', 'amritsari fish', 'butter chicken', 'chicken razala', 'chicken tikka', 'chicken tikka masala', 'mushroom matar', 'tandoori chicken', 'tandoori fish tikka', 'chettinadu chicken', 'chicken 65', 'kolim / jawla', 'black rice', 'brown rice', 'koldil chicken', 'red rice', 'rice', 'sunga pork', 'banana chips', 'bhurji- egg', 'flattened rice / poha', 'puffed rice', 'Miso-Butter Roast Chicken With Acorn Squash Panzanella', 'Honeydew Salad with Ginger Dressing and Peanuts', 'Kimchi and Miso Noodle Soup', 'Spicy Korean Steak', 'French Spiced Bread', 'Quinoa Bowl and Berries', 'Shawarma-Spiced Braised Leg of Lamb', 'Roast Pork Tenderloin with Carrot Romesco', 'Ricotta Gnocchi with Asparagus, Peas, and Morels', 'Crispy Pakora', 'Lamb Tikka', 'Grilled Sweet Prawn', 'Pho Tai rare beef', 'Summer Rolls', 'Spice Chicken Baugette', 'Bean Curd Rolls', 'Pho Chay Soup', 'Pho Ga Chicken', 'Chicken Sweet Corn Soup', 'Thai Spareribs', 'Frenched Green Beans', 'Lemony Crab Salad with Baby Greens', 'Mushroom Manchruian', 'Biryani', 'Tandoori Chicken', 'Shrimp Olivier', 'Potato Casserole', 'Thyme-Roasted Sweet Potatoes', 'Noodle Curry', 'Grill Lemon grass Pork baguette', 'Sukuti Chatpate', 'Cheese Naan', 'Mushroom Rice', 'Bringle Alo', 'Mutar Paneer', 'Cucumber and Radish Salad', 'Channa Masala', 'Saag Alo ', 'Alo Tama Bodi', 'Tarka Daal', 'Jeera Alu', 'Nepali Chicken Curry', 'Lamb Shashlik', 'Hyakula', 'Alo Achar', 'Chicken Momo', 'Black-Bean Burgers', 'Parmesan Toasts', 'Rice with Soy-Glazed Bonito Flakes and Sesame Seeds', 'Shirazi Salad', 'Sesame Noodles with Chili Oil and Scallions', 'Thai Green Curry ', 'Ground Pork Menudo', 'Bao Bun ', 'Garlic Naan', 'Egg Curry with Tomatoes and Cilantro', 'Kimchi Bokumbab', 'Korean fried Chicken', 'Prawn kastu Curry', 'Beef Bibimbab', 'Sweet and Sour Chicken Fried Rice', 'Sea Food Soup', 'Pad Thai', 'Spicy Kimchi Tofu Stew', 'Slow-Roasted Pork ', 'Pico de Gallo Verde', 'Pineapple-Coconut Rice', 'Lamb and Green Squash Dumplings', 'Crispy Tofu Balls', 'Grilled Chicken with Almond and Garlic Sauce', 'Parmesan Cauliflower and Parsley Salad', 'Vietnamese Chicken Salad', 'Eggplant and Beef Stir-Fry', 'Stir-Fried Lettuces With Crispy Shallots', 'Chicken and Dumplings', 'Asian Salmon Bowl with Lime Drizzle', 'Pasta with Garlic-Scape Pesto', 'Pico de Gallo', 'Basmati Rice with Summer Vegetable Salad', 'Fresh Corn Tortillas', 'Quinoa Tabbouleh', 'Grilled Clams With Herb Butter', 'Rajas Poblanas', 'Braised Beef Short Ribs', 'Fig and Sesame Tart with Cardamom Orange Cream', 'Rouille', 'Kimchi Toast', 'Tacos de Gobernador (Shrimp, Poblano, and Cheese Tacos)', 'Melted Broccoli Pasta With Capers and Anchovies', 'Lemon-Ginger Cake with Pistachios', 'Rosemary Roasted Vegetables']\n"
     ]
    }
   ],
   "source": [
    "print(Listallfood)"
   ]
  },
  {
   "cell_type": "code",
   "execution_count": 25,
   "id": "b6a2ab40-0416-42dc-a2f5-6f7857b549b7",
   "metadata": {},
   "outputs": [],
   "source": [
    "#for testing let us take ip = 'Chana Masala'"
   ]
  },
  {
   "cell_type": "code",
   "execution_count": 26,
   "id": "c517d389-84d4-45f3-beb0-abbf5a31e4dc",
   "metadata": {},
   "outputs": [],
   "source": [
    "ip = 'Chana Masala'"
   ]
  },
  {
   "cell_type": "code",
   "execution_count": 27,
   "id": "0cac6ed9-9f73-4542-a30e-47a1a1c3cc84",
   "metadata": {},
   "outputs": [],
   "source": [
    "#finding the closest match form the Listallfood to the ip"
   ]
  },
  {
   "cell_type": "code",
   "execution_count": 29,
   "id": "b1d21106-2cbe-400b-84bc-25f9614d0434",
   "metadata": {},
   "outputs": [],
   "source": [
    "FindCloseMatch = difflib.get_close_matches(ip,Listallfood)"
   ]
  },
  {
   "cell_type": "code",
   "execution_count": 30,
   "id": "de8a2567-f913-4e97-8e6f-2de908e5b924",
   "metadata": {},
   "outputs": [
    {
     "name": "stdout",
     "output_type": "stream",
     "text": [
      "['Channa Masala', 'chicken masala']\n"
     ]
    }
   ],
   "source": [
    "print(FindCloseMatch)"
   ]
  },
  {
   "cell_type": "code",
   "execution_count": 31,
   "id": "38b3978a-9319-4d2c-9736-ac7d6f7e9db0",
   "metadata": {},
   "outputs": [],
   "source": [
    "CloseMatch  = FindCloseMatch[0]"
   ]
  },
  {
   "cell_type": "code",
   "execution_count": 32,
   "id": "01999472-4fa7-4522-97f6-15b84425fb7c",
   "metadata": {},
   "outputs": [
    {
     "name": "stdout",
     "output_type": "stream",
     "text": [
      "Channa Masala\n"
     ]
    }
   ],
   "source": [
    "print(CloseMatch)"
   ]
  },
  {
   "cell_type": "markdown",
   "id": "ed2c28a5-dd97-4766-a7cd-97a32fca39e3",
   "metadata": {},
   "source": [
    "finding the index of the movie based on the Name(closeMatch)"
   ]
  },
  {
   "cell_type": "code",
   "execution_count": 35,
   "id": "bdd09205-50e2-4e42-a3f8-e7125f55740b",
   "metadata": {},
   "outputs": [
    {
     "name": "stdout",
     "output_type": "stream",
     "text": [
      "346\n"
     ]
    }
   ],
   "source": [
    "index_of_food = fooData[fooData['Name']==CloseMatch]['Food_ID'].values[0]\n",
    "print(index_of_food)"
   ]
  },
  {
   "cell_type": "code",
   "execution_count": 36,
   "id": "fe7a9a0f-1eab-477c-b1df-d016362b2c79",
   "metadata": {},
   "outputs": [],
   "source": [
    "similarity_score = list(enumerate(similarity[index_of_food]))"
   ]
  },
  {
   "cell_type": "code",
   "execution_count": 37,
   "id": "d5620ff9-3897-4d66-b810-b395c2f5cc57",
   "metadata": {},
   "outputs": [
    {
     "name": "stdout",
     "output_type": "stream",
     "text": [
      "[(0, 0.0028175614609298864), (1, 0.019409818133869994), (2, 0.02121561711657686), (3, 0.0033905535434999774), (4, 0.0029452129685967263), (5, 0.0016517869692926816), (6, 0.016667740132916647), (7, 0.042809318305875824), (8, 0.003049838142329311), (9, 0.0034518097806928755), (10, 0.012955783948631663), (11, 0.010302788910100042), (12, 0.0035068416717748438), (13, 0.0021509718704834594), (14, 0.02113116620198186), (15, 0.04137487402948994), (16, 0.0032746620556624918), (17, 0.004586311456253349), (18, 0.06474794177462868), (19, 0.03592511054953451), (20, 0.0036832108848940787), (21, 0.01784056576591099), (22, 0.0030394566024422105), (23, 0.003216667723181257), (24, 0.012459109403149447), (25, 0.10692217440540161), (26, 0.0025760308111144755), (27, 0.0028586222956774347), (28, 0.1079504733957934), (29, 0.016011471492624437), (30, 0.050746263636701476), (31, 0.00341452897806305), (32, 0.0814814569415695), (33, 0.003279228926201669), (34, 0.0034661046591170667), (35, 0.0036052143566603196), (36, 0.01977313251950717), (37, 0.002240669635668405), (38, 0.13995890965168992), (39, 0.010587459651039249), (40, 0.11596577160175686), (41, 0.003660116712519646), (42, 0.011138938704450232), (43, 0.09835470837695133), (44, 0.0676819403839416), (45, 0.01406002076541), (46, 0.023308103426839488), (47, 0.03192461361478966), (48, 0.017286879856060162), (49, 0.013116900458527508), (50, 0.030962329039027535), (51, 0.046742733131628425), (52, 0.046122373074826944), (53, 0.0025866680479977376), (54, 0.0021655169208401955), (55, 0.017432384101111854), (56, 0.08889304756347885), (57, 0.002851393999333859), (58, 0.0022956159764057856), (59, 0.04758027818269459), (60, 0.043996012429064695), (61, 0.011418209202296272), (62, 0.07422957785958029), (63, 0.002624761124818896), (64, 0.016626758293622947), (65, 0.0029774684566133947), (66, 0.011719620967874723), (67, 0.017686283048200732), (68, 0.003184816885856591), (69, 0.02112977376023953), (70, 0.026993390887125105), (71, 0.004215700169457942), (72, 0.02397191932353062), (73, 0.0027550022729765605), (74, 0.004108063271949997), (75, 0.009855765456814576), (76, 0.00333352298320602), (77, 0.1346293024239261), (78, 0.017094519986910528), (79, 0.0032712688280701814), (80, 0.00324629585422766), (81, 0.005983531815774677), (82, 0.020921515771768286), (83, 0.0236729811070544), (84, 0.002920376854384167), (85, 0.018030578598536753), (86, 0.014841843205005208), (87, 0.04572774819542472), (88, 0.039934526878469795), (89, 0.0016017356813465388), (90, 0.06349259891129608), (91, 0.03888342940436571), (92, 0.01812874227416452), (93, 0.10272206940548179), (94, 0.051124926636265354), (95, 0.049404640197865946), (96, 0.05705102452549071), (97, 0.05741677786135849), (98, 0.07789445983787902), (99, 0.1322415128725469), (100, 0.018038771313966168), (101, 0.13594816541248358), (102, 0.13792278166376387), (103, 0.021722202270322788), (104, 0.01481613629738863), (105, 0.05402777445166871), (106, 0.011899735222591617), (107, 0.06001100131495955), (108, 0.07015155382509612), (109, 0.01956388583803714), (110, 0.021161508233477677), (111, 0.002891193188737963), (112, 0.022422234519591022), (113, 0.003599033731881022), (114, 0.11476758872319837), (115, 0.003303886048436345), (116, 0.021267098542664332), (117, 0.09975546259607249), (118, 0.061205685427392145), (119, 0.04705800709344284), (120, 0.05747440716721636), (121, 0.00241870205096579), (122, 0.013244123566056348), (123, 0.0755652205512726), (124, 0.057074556612657645), (125, 0.10970346676207576), (126, 0.059895498605258835), (127, 0.014791917238593837), (128, 0.0032104834725561336), (129, 0.03224356456995493), (130, 0.0787479655179873), (131, 0.002878848256529488), (132, 0.05032635261715493), (133, 0.01753567428676902), (134, 0.08257904246369416), (135, 0.05353047218552458), (136, 0.0017392816493535153), (137, 0.01827622237345377), (138, 0.08719591316397425), (139, 0.003027667747588288), (140, 0.010301022053831124), (141, 0.002483802911933975), (142, 0.0018890631994562216), (143, 0.02740532206653234), (144, 0.03244468808904783), (145, 0.03323783634877487), (146, 0.0775772289205307), (147, 0.0031810443684906833), (148, 0.002794761757503015), (149, 0.06463249919540538), (150, 0.023995198883269078), (151, 0.020531819157895908), (152, 0.14375743138194103), (153, 0.0048537693249196346), (154, 0.026786459980262814), (155, 0.04659108875803793), (156, 0.07965716148037677), (157, 0.07232509968792476), (158, 0.015013820172183938), (159, 0.13511336435181998), (160, 0.023435074977466053), (161, 0.18986198251063585), (162, 0.012797767893963419), (163, 0.0033171461512435415), (164, 0.08789626759852479), (165, 0.023414984787004153), (166, 0.03447309198713525), (167, 0.04434023435128265), (168, 0.0031173761010172977), (169, 0.0028090546008162696), (170, 0.09466745867034247), (171, 0.025278110102781116), (172, 0.03653697466925103), (173, 0.04671043711274281), (174, 0.01690459533357541), (175, 0.00305736205854158), (176, 0.08364042517692118), (177, 0.041928458533750754), (178, 0.002237534833498245), (179, 0.019929339935382262), (180, 0.13495775345362704), (181, 0.045216466311712736), (182, 0.05870312352712487), (183, 0.0023624163138048705), (184, 0.00257643619756164), (185, 0.012866752632459432), (186, 0.0032034056025662754), (187, 0.018661470048027852), (188, 0.04517748537229146), (189, 0.0845575675153219), (190, 0.001759284324966401), (191, 0.012842413716804165), (192, 0.004824024965584109), (193, 0.00432316024987503), (194, 0.004634197781536449), (195, 0.04321406002314926), (196, 0.0031402671520019128), (197, 0.0034532944755045264), (198, 0.11166220594659565), (199, 0.003868738291851902), (200, 0.013133788601614505), (201, 0.0028248782322629414), (202, 0.003203777826869493), (203, 0.013364923539022477), (204, 0.0035996121028658524), (205, 0.0049301129782181275), (206, 0.024820854025907627), (207, 0.003641179424501413), (208, 0.0035808561159864313), (209, 0.02295321385544924), (210, 0.002198005055843748), (211, 0.11686773829948582), (212, 0.0011902881967086594), (213, 0.0795663188872158), (214, 0.059286223308797334), (215, 0.003942179084612115), (216, 0.0029069970296845774), (217, 0.003002134139096611), (218, 0.0019838885557319622), (219, 0.027540238390730772), (220, 0.010776759499425047), (221, 0.03444479476248776), (222, 0.004646861998338659), (223, 0.022131976316767044), (224, 0.07255687905027763), (225, 0.04524582202752098), (226, 0.013464021880299784), (227, 0.0027535999539165753), (228, 0.0042134199779603285), (229, 0.018075018303062466), (230, 0.0018930718674092652), (231, 0.033582878041332004), (232, 0.01716881897496742), (233, 0.016753551397458988), (234, 0.018274538554527632), (235, 0.0028937184680345395), (236, 0.015949065149588777), (237, 0.02313518086882736), (238, 0.01802856044913639), (239, 0.05872005888887202), (240, 0.051968008390963466), (241, 0.004432315617899781), (242, 0.0028967696851809983), (243, 0.014603494050181859), (244, 0.0028630700513059878), (245, 0.009320866410535993), (246, 0.016846468653138984), (247, 0.002817204058302936), (248, 0.0024789379636764738), (249, 0.011599484921338894), (250, 0.06896424319894406), (251, 0.014755593639362352), (252, 0.015949065149588777), (253, 0.002716409476496934), (254, 0.08589069052764714), (255, 0.0028034371789097917), (256, 0.025867398381800213), (257, 0.14162507025566962), (258, 0.0034119414109873955), (259, 0.1529490011950334), (260, 0.03019788400100642), (261, 0.10337470299921662), (262, 0.14928643577885548), (263, 0.002791094667945576), (264, 0.0024069671959925224), (265, 0.017107491618933105), (266, 0.001350473726092427), (267, 0.0031681640293675538), (268, 0.04101536828856351), (269, 0.0024821865101888607), (270, 0.0763577782612048), (271, 0.014839524404532022), (272, 0.002346021491964316), (273, 0.011678567174067688), (274, 0.03744550004351776), (275, 0.010988947408749245), (276, 0.030323199288225113), (277, 0.002868291400071106), (278, 0.0025534174373611617), (279, 0.03415345670792755), (280, 0.01388498705063745), (281, 0.003402109965837766), (282, 0.02434169871937806), (283, 0.015164161641940744), (284, 0.18394711470920405), (285, 0.04948846299921559), (286, 0.017573711914846604), (287, 0.012328330125183433), (288, 0.005687938779898359), (289, 0.00644005022856702), (290, 0.004461234326934354), (291, 0.005375990447669987), (292, 0.004427994858384167), (293, 0.0045602595231940355), (294, 0.0030548842316203777), (295, 0.0036408071382034034), (296, 0.12950430592269904), (297, 0.02996516916455625), (298, 0.05941629579016853), (299, 0.006444928094327521), (300, 0.00618594310621397), (301, 0.004070972669385353), (302, 0.006486259316117317), (303, 0.008590962080685598), (304, 0.006802919455709805), (305, 0.03002768578823191), (306, 0.0945046646049107), (307, 0.001412851258831604), (308, 0.0009233791498989771), (309, 0.0031471908381785164), (310, 0.0030882672967110615), (311, 0.0035191048619492853), (312, 0.00319077171371132), (313, 0.0034904172690718143), (314, 0.003942969788242703), (315, 0.1709256705588392), (316, 0.002862927270167383), (317, 0.0030658193779948316), (318, 0.035661746275364954), (319, 0.13014244285975407), (320, 0.003965685779590183), (321, 0.0033143540949083354), (322, 0.0043316084728318265), (323, 0.0036172664916927283), (324, 0.003648531890753206), (325, 0.003966465225742733), (326, 0.003760979593874984), (327, 0.004041172973756468), (328, 0.0033244416312225725), (329, 0.004319705063079223), (330, 0.0031711159612866345), (331, 0.07189384251390964), (332, 0.137644635377768), (333, 0.13346677684719416), (334, 0.02495218186991606), (335, 0.11548784314044067), (336, 0.0035803372149859347), (337, 0.004471964942640466), (338, 0.0030601849159558143), (339, 0.10119121253507174), (340, 0.004960599292538664), (341, 0.16359257194785487), (342, 0.38913210972705903), (343, 0.09160078008313109), (344, 0.004459807187594839), (345, 0.1303843989007101), (346, 1.0), (347, 0.26067774193811627), (348, 0.22800346645673125), (349, 0.15893625608480785), (350, 0.2513885948838721), (351, 0.11859497198244309), (352, 0.21045681663717514), (353, 0.3317679711770772), (354, 0.1265073459797803), (355, 0.039514928007261224), (356, 0.004766588316827214), (357, 0.0031195381476188957), (358, 0.0549260368431657), (359, 0.003010377118920902), (360, 0.058194553326727266), (361, 0.023817199694693404), (362, 0.1164854427683589), (363, 0.1623402374322733), (364, 0.0040819720901317915), (365, 0.022668474203344294), (366, 0.003902166603042461), (367, 0.0037220479448147195), (368, 0.004273516193029068), (369, 0.004161748627363481), (370, 0.0037746200563300433), (371, 0.02298718218320749), (372, 0.0031756019154681155), (373, 0.003316724867449455), (374, 0.024761975407319645), (375, 0.04074978601574834), (376, 0.002900150012854565), (377, 0.0036173781627488796), (378, 0.0038946384226326357), (379, 0.004117321170086369), (380, 0.0040823981118889565), (381, 0.0033994041453938215), (382, 0.0038767666806605967), (383, 0.0038729248593066634), (384, 0.0032605271907571068), (385, 0.0036010400661018373), (386, 0.004559431365014466), (387, 0.0031640239355396967), (388, 0.004663221591612673), (389, 0.0037159840545180176), (390, 0.003607895961581269), (391, 0.00477306696668656), (392, 0.0035183615102522747), (393, 0.003025278443173735), (394, 0.004376374385415644), (395, 0.003485474924152108), (396, 0.0025640359710972518), (397, 0.002872823428281214), (398, 0.004285123862999955), (399, 0.06882865822683928)]\n"
     ]
    }
   ],
   "source": [
    "print(similarity_score)"
   ]
  },
  {
   "cell_type": "code",
   "execution_count": 38,
   "id": "2649d470-71e8-46a8-83e5-5327c4a5699d",
   "metadata": {},
   "outputs": [],
   "source": [
    "soreted_similar_movie = sorted(similarity_score,key =lambda x:x[1], reverse=True)"
   ]
  },
  {
   "cell_type": "code",
   "execution_count": 40,
   "id": "d75241a5-9a92-43fe-91bb-d8761c3bba9a",
   "metadata": {},
   "outputs": [
    {
     "name": "stdout",
     "output_type": "stream",
     "text": [
      "[(346, 1.0), (342, 0.38913210972705903), (353, 0.3317679711770772), (347, 0.26067774193811627), (350, 0.2513885948838721), (348, 0.22800346645673125), (352, 0.21045681663717514), (161, 0.18986198251063585), (284, 0.18394711470920405), (315, 0.1709256705588392), (341, 0.16359257194785487), (363, 0.1623402374322733), (349, 0.15893625608480785), (259, 0.1529490011950334), (262, 0.14928643577885548), (152, 0.14375743138194103), (257, 0.14162507025566962), (38, 0.13995890965168992), (102, 0.13792278166376387), (332, 0.137644635377768), (101, 0.13594816541248358), (159, 0.13511336435181998), (180, 0.13495775345362704), (77, 0.1346293024239261), (333, 0.13346677684719416), (99, 0.1322415128725469), (345, 0.1303843989007101), (319, 0.13014244285975407), (296, 0.12950430592269904), (354, 0.1265073459797803), (351, 0.11859497198244309), (211, 0.11686773829948582), (362, 0.1164854427683589), (40, 0.11596577160175686), (335, 0.11548784314044067), (114, 0.11476758872319837), (198, 0.11166220594659565), (125, 0.10970346676207576), (28, 0.1079504733957934), (25, 0.10692217440540161), (261, 0.10337470299921662), (93, 0.10272206940548179), (339, 0.10119121253507174), (117, 0.09975546259607249), (43, 0.09835470837695133), (170, 0.09466745867034247), (306, 0.0945046646049107), (343, 0.09160078008313109), (56, 0.08889304756347885), (164, 0.08789626759852479), (138, 0.08719591316397425), (254, 0.08589069052764714), (189, 0.0845575675153219), (176, 0.08364042517692118), (134, 0.08257904246369416), (32, 0.0814814569415695), (156, 0.07965716148037677), (213, 0.0795663188872158), (130, 0.0787479655179873), (98, 0.07789445983787902), (146, 0.0775772289205307), (270, 0.0763577782612048), (123, 0.0755652205512726), (62, 0.07422957785958029), (224, 0.07255687905027763), (157, 0.07232509968792476), (331, 0.07189384251390964), (108, 0.07015155382509612), (250, 0.06896424319894406), (399, 0.06882865822683928), (44, 0.0676819403839416), (18, 0.06474794177462868), (149, 0.06463249919540538), (90, 0.06349259891129608), (118, 0.061205685427392145), (107, 0.06001100131495955), (126, 0.059895498605258835), (298, 0.05941629579016853), (214, 0.059286223308797334), (239, 0.05872005888887202), (182, 0.05870312352712487), (360, 0.058194553326727266), (120, 0.05747440716721636), (97, 0.05741677786135849), (124, 0.057074556612657645), (96, 0.05705102452549071), (358, 0.0549260368431657), (105, 0.05402777445166871), (135, 0.05353047218552458), (240, 0.051968008390963466), (94, 0.051124926636265354), (30, 0.050746263636701476), (132, 0.05032635261715493), (285, 0.04948846299921559), (95, 0.049404640197865946), (59, 0.04758027818269459), (119, 0.04705800709344284), (51, 0.046742733131628425), (173, 0.04671043711274281), (155, 0.04659108875803793), (52, 0.046122373074826944), (87, 0.04572774819542472), (225, 0.04524582202752098), (181, 0.045216466311712736), (188, 0.04517748537229146), (167, 0.04434023435128265), (60, 0.043996012429064695), (195, 0.04321406002314926), (7, 0.042809318305875824), (177, 0.041928458533750754), (15, 0.04137487402948994), (268, 0.04101536828856351), (375, 0.04074978601574834), (88, 0.039934526878469795), (355, 0.039514928007261224), (91, 0.03888342940436571), (274, 0.03744550004351776), (172, 0.03653697466925103), (19, 0.03592511054953451), (318, 0.035661746275364954), (166, 0.03447309198713525), (221, 0.03444479476248776), (279, 0.03415345670792755), (231, 0.033582878041332004), (145, 0.03323783634877487), (144, 0.03244468808904783), (129, 0.03224356456995493), (47, 0.03192461361478966), (50, 0.030962329039027535), (276, 0.030323199288225113), (260, 0.03019788400100642), (305, 0.03002768578823191), (297, 0.02996516916455625), (219, 0.027540238390730772), (143, 0.02740532206653234), (70, 0.026993390887125105), (154, 0.026786459980262814), (256, 0.025867398381800213), (171, 0.025278110102781116), (334, 0.02495218186991606), (206, 0.024820854025907627), (374, 0.024761975407319645), (282, 0.02434169871937806), (150, 0.023995198883269078), (72, 0.02397191932353062), (361, 0.023817199694693404), (83, 0.0236729811070544), (160, 0.023435074977466053), (165, 0.023414984787004153), (46, 0.023308103426839488), (237, 0.02313518086882736), (371, 0.02298718218320749), (209, 0.02295321385544924), (365, 0.022668474203344294), (112, 0.022422234519591022), (223, 0.022131976316767044), (103, 0.021722202270322788), (116, 0.021267098542664332), (2, 0.02121561711657686), (110, 0.021161508233477677), (14, 0.02113116620198186), (69, 0.02112977376023953), (82, 0.020921515771768286), (151, 0.020531819157895908), (179, 0.019929339935382262), (36, 0.01977313251950717), (109, 0.01956388583803714), (1, 0.019409818133869994), (187, 0.018661470048027852), (137, 0.01827622237345377), (234, 0.018274538554527632), (92, 0.01812874227416452), (229, 0.018075018303062466), (100, 0.018038771313966168), (85, 0.018030578598536753), (238, 0.01802856044913639), (21, 0.01784056576591099), (67, 0.017686283048200732), (286, 0.017573711914846604), (133, 0.01753567428676902), (55, 0.017432384101111854), (48, 0.017286879856060162), (232, 0.01716881897496742), (265, 0.017107491618933105), (78, 0.017094519986910528), (174, 0.01690459533357541), (246, 0.016846468653138984), (233, 0.016753551397458988), (6, 0.016667740132916647), (64, 0.016626758293622947), (29, 0.016011471492624437), (236, 0.015949065149588777), (252, 0.015949065149588777), (283, 0.015164161641940744), (158, 0.015013820172183938), (86, 0.014841843205005208), (271, 0.014839524404532022), (104, 0.01481613629738863), (127, 0.014791917238593837), (251, 0.014755593639362352), (243, 0.014603494050181859), (45, 0.01406002076541), (280, 0.01388498705063745), (226, 0.013464021880299784), (203, 0.013364923539022477), (122, 0.013244123566056348), (200, 0.013133788601614505), (49, 0.013116900458527508), (10, 0.012955783948631663), (185, 0.012866752632459432), (191, 0.012842413716804165), (162, 0.012797767893963419), (24, 0.012459109403149447), (287, 0.012328330125183433), (106, 0.011899735222591617), (66, 0.011719620967874723), (273, 0.011678567174067688), (249, 0.011599484921338894), (61, 0.011418209202296272), (42, 0.011138938704450232), (275, 0.010988947408749245), (220, 0.010776759499425047), (39, 0.010587459651039249), (11, 0.010302788910100042), (140, 0.010301022053831124), (75, 0.009855765456814576), (245, 0.009320866410535993), (303, 0.008590962080685598), (304, 0.006802919455709805), (302, 0.006486259316117317), (299, 0.006444928094327521), (289, 0.00644005022856702), (300, 0.00618594310621397), (81, 0.005983531815774677), (288, 0.005687938779898359), (291, 0.005375990447669987), (340, 0.004960599292538664), (205, 0.0049301129782181275), (153, 0.0048537693249196346), (192, 0.004824024965584109), (391, 0.00477306696668656), (356, 0.004766588316827214), (388, 0.004663221591612673), (222, 0.004646861998338659), (194, 0.004634197781536449), (17, 0.004586311456253349), (293, 0.0045602595231940355), (386, 0.004559431365014466), (337, 0.004471964942640466), (290, 0.004461234326934354), (344, 0.004459807187594839), (241, 0.004432315617899781), (292, 0.004427994858384167), (394, 0.004376374385415644), (322, 0.0043316084728318265), (193, 0.00432316024987503), (329, 0.004319705063079223), (398, 0.004285123862999955), (368, 0.004273516193029068), (71, 0.004215700169457942), (228, 0.0042134199779603285), (369, 0.004161748627363481), (379, 0.004117321170086369), (74, 0.004108063271949997), (380, 0.0040823981118889565), (364, 0.0040819720901317915), (301, 0.004070972669385353), (327, 0.004041172973756468), (325, 0.003966465225742733), (320, 0.003965685779590183), (314, 0.003942969788242703), (215, 0.003942179084612115), (366, 0.003902166603042461), (378, 0.0038946384226326357), (382, 0.0038767666806605967), (383, 0.0038729248593066634), (199, 0.003868738291851902), (370, 0.0037746200563300433), (326, 0.003760979593874984), (367, 0.0037220479448147195), (389, 0.0037159840545180176), (20, 0.0036832108848940787), (41, 0.003660116712519646), (324, 0.003648531890753206), (207, 0.003641179424501413), (295, 0.0036408071382034034), (377, 0.0036173781627488796), (323, 0.0036172664916927283), (390, 0.003607895961581269), (35, 0.0036052143566603196), (385, 0.0036010400661018373), (204, 0.0035996121028658524), (113, 0.003599033731881022), (208, 0.0035808561159864313), (336, 0.0035803372149859347), (311, 0.0035191048619492853), (392, 0.0035183615102522747), (12, 0.0035068416717748438), (313, 0.0034904172690718143), (395, 0.003485474924152108), (34, 0.0034661046591170667), (197, 0.0034532944755045264), (9, 0.0034518097806928755), (31, 0.00341452897806305), (258, 0.0034119414109873955), (281, 0.003402109965837766), (381, 0.0033994041453938215), (3, 0.0033905535434999774), (76, 0.00333352298320602), (328, 0.0033244416312225725), (163, 0.0033171461512435415), (373, 0.003316724867449455), (321, 0.0033143540949083354), (115, 0.003303886048436345), (33, 0.003279228926201669), (16, 0.0032746620556624918), (79, 0.0032712688280701814), (384, 0.0032605271907571068), (80, 0.00324629585422766), (23, 0.003216667723181257), (128, 0.0032104834725561336), (202, 0.003203777826869493), (186, 0.0032034056025662754), (312, 0.00319077171371132), (68, 0.003184816885856591), (147, 0.0031810443684906833), (372, 0.0031756019154681155), (330, 0.0031711159612866345), (267, 0.0031681640293675538), (387, 0.0031640239355396967), (309, 0.0031471908381785164), (196, 0.0031402671520019128), (357, 0.0031195381476188957), (168, 0.0031173761010172977), (310, 0.0030882672967110615), (317, 0.0030658193779948316), (338, 0.0030601849159558143), (175, 0.00305736205854158), (294, 0.0030548842316203777), (8, 0.003049838142329311), (22, 0.0030394566024422105), (139, 0.003027667747588288), (393, 0.003025278443173735), (359, 0.003010377118920902), (217, 0.003002134139096611), (65, 0.0029774684566133947), (4, 0.0029452129685967263), (84, 0.002920376854384167), (216, 0.0029069970296845774), (376, 0.002900150012854565), (242, 0.0028967696851809983), (235, 0.0028937184680345395), (111, 0.002891193188737963), (131, 0.002878848256529488), (397, 0.002872823428281214), (277, 0.002868291400071106), (244, 0.0028630700513059878), (316, 0.002862927270167383), (27, 0.0028586222956774347), (57, 0.002851393999333859), (201, 0.0028248782322629414), (0, 0.0028175614609298864), (247, 0.002817204058302936), (169, 0.0028090546008162696), (255, 0.0028034371789097917), (148, 0.002794761757503015), (263, 0.002791094667945576), (73, 0.0027550022729765605), (227, 0.0027535999539165753), (253, 0.002716409476496934), (63, 0.002624761124818896), (53, 0.0025866680479977376), (184, 0.00257643619756164), (26, 0.0025760308111144755), (396, 0.0025640359710972518), (278, 0.0025534174373611617), (141, 0.002483802911933975), (269, 0.0024821865101888607), (248, 0.0024789379636764738), (121, 0.00241870205096579), (264, 0.0024069671959925224), (183, 0.0023624163138048705), (272, 0.002346021491964316), (58, 0.0022956159764057856), (37, 0.002240669635668405), (178, 0.002237534833498245), (210, 0.002198005055843748), (54, 0.0021655169208401955), (13, 0.0021509718704834594), (218, 0.0019838885557319622), (230, 0.0018930718674092652), (142, 0.0018890631994562216), (190, 0.001759284324966401), (136, 0.0017392816493535153), (5, 0.0016517869692926816), (89, 0.0016017356813465388), (307, 0.001412851258831604), (266, 0.001350473726092427), (212, 0.0011902881967086594), (308, 0.0009233791498989771)]\n"
     ]
    }
   ],
   "source": [
    "print(soreted_similar_movie)"
   ]
  },
  {
   "cell_type": "markdown",
   "id": "eb93267e-e27e-44a8-9dc0-74afb6226e5f",
   "metadata": {},
   "source": [
    "Printing all the names of the Suggested Foods"
   ]
  },
  {
   "cell_type": "code",
   "execution_count": 57,
   "id": "6cf59319-24de-4cda-8735-8662bbbc64bb",
   "metadata": {},
   "outputs": [
    {
     "name": "stdout",
     "output_type": "stream",
     "text": [
      "Suggested Foods are : \n",
      "1 . Channa Masala\n",
      "2 . Mushroom Rice\n",
      "3 . Hyakula\n",
      "4 . Saag Alo \n",
      "5 . Jeera Alu\n",
      "6 . Alo Tama Bodi\n",
      "7 . Lamb Shashlik\n",
      "8 . spanish fish fry\n",
      "9 . strawberry quinoa pancakes\n",
      "10 . Quinoa Bowl and Berries\n",
      "11 . Cheese Naan\n",
      "12 . Bao Bun \n",
      "13 . Tarka Daal\n",
      "14 . ragi coconut ladoo (laddu)\n",
      "15 . chicken masala\n",
      "16 . prawn fried rice\n",
      "17 . ragi oats ladoo (laddu)\n",
      "18 . mixed salad with lotus root\n",
      "19 . dahi chicken\n",
      "20 . Mushroom Manchruian\n",
      "21 . crispy herb chicken\n",
      "22 . batter fish\n",
      "23 . lotus leaf wrapped fried rice\n",
      "24 . grilled lemon margarita\n",
      "25 . Biryani\n",
      "26 . spicy chicken masala\n",
      "27 . Cucumber and Radish Salad\n",
      "28 . Crispy Pakora\n",
      "29 . tandoori fish tikka\n"
     ]
    },
    {
     "ename": "IndexError",
     "evalue": "index 0 is out of bounds for axis 0 with size 0",
     "output_type": "error",
     "traceback": [
      "\u001b[1;31m---------------------------------------------------------------------------\u001b[0m",
      "\u001b[1;31mIndexError\u001b[0m                                Traceback (most recent call last)",
      "Cell \u001b[1;32mIn[57], line 7\u001b[0m\n\u001b[0;32m      3\u001b[0m \u001b[38;5;28;01mfor\u001b[39;00m food \u001b[38;5;129;01min\u001b[39;00m soreted_similar_movie:\n\u001b[0;32m      4\u001b[0m     index \u001b[38;5;241m=\u001b[39m food[\u001b[38;5;241m0\u001b[39m]\n\u001b[1;32m----> 7\u001b[0m     title_from_index \u001b[38;5;241m=\u001b[39m fooData[fooData\u001b[38;5;241m.\u001b[39mFood_ID\u001b[38;5;241m==\u001b[39mindex][\u001b[38;5;124m'\u001b[39m\u001b[38;5;124mName\u001b[39m\u001b[38;5;124m'\u001b[39m]\u001b[38;5;241m.\u001b[39mvalues[\u001b[38;5;241m0\u001b[39m]\n\u001b[0;32m      9\u001b[0m     \u001b[38;5;28;01mif\u001b[39;00m(i\u001b[38;5;241m<\u001b[39m\u001b[38;5;241m30\u001b[39m):\n\u001b[0;32m     10\u001b[0m         \u001b[38;5;28mprint\u001b[39m(i, \u001b[38;5;124m'\u001b[39m\u001b[38;5;124m.\u001b[39m\u001b[38;5;124m'\u001b[39m,title_from_index)\n",
      "\u001b[1;31mIndexError\u001b[0m: index 0 is out of bounds for axis 0 with size 0"
     ]
    }
   ],
   "source": [
    "print('Suggested Foods are : ')\n",
    "i=1\n",
    "for food in soreted_similar_movie:\n",
    "    index = food[0]\n",
    "    \n",
    "\n",
    "    title_from_index = fooData[fooData.Food_ID==index]['Name'].values[0]\n",
    "\n",
    "    if(i<30):\n",
    "        print(i, '.',title_from_index)\n",
    "        i+=1"
   ]
  },
  {
   "cell_type": "code",
   "execution_count": null,
   "id": "b132e86d-fef4-4509-809f-bc5c15d353f2",
   "metadata": {},
   "outputs": [],
   "source": []
  }
 ],
 "metadata": {
  "kernelspec": {
   "display_name": "Python 3 (ipykernel)",
   "language": "python",
   "name": "python3"
  },
  "language_info": {
   "codemirror_mode": {
    "name": "ipython",
    "version": 3
   },
   "file_extension": ".py",
   "mimetype": "text/x-python",
   "name": "python",
   "nbconvert_exporter": "python",
   "pygments_lexer": "ipython3",
   "version": "3.11.7"
  }
 },
 "nbformat": 4,
 "nbformat_minor": 5
}
